{
 "cells": [
  {
   "attachments": {
    "Quantinuum%20Logos_primary_blue_small.svg": {
     "image/svg+xml": [
      "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"
     ]
    }
   },
   "cell_type": "markdown",
   "metadata": {},
   "source": [
    "![Quantinuum%20Logos_primary_blue_small.svg](attachment:Quantinuum%20Logos_primary_blue_small.svg)"
   ]
  },
  {
   "cell_type": "markdown",
   "metadata": {},
   "source": [
    "\n",
    "# Discarding leaky results: Automatic leakage error detection with `QuantinuumBackend`"
   ]
  },
  {
   "cell_type": "markdown",
   "metadata": {},
   "source": [
    "Quantum computers are known to be *noisy*, with a high chance of errors occurring when executing a sequence of operations. These errors can come from a variety of sources and are typically hard to mitigate. Investigating the source of errors, how they manifest at the quantum circuit level, and how to mitigate them, is a wide area of research. <br>"
   ]
  },
  {
   "cell_type": "markdown",
   "metadata": {},
   "source": [
    "A regular experiment using the `QuantinuumBackend` works as follows: circuits are defined using `pytket`, compiled to the device constraints using `QuantinuumBackend.get_compiled_circuit` and sent to the device provider using `QuantinuumBackend.process_circuits`; results are retrieved using `QuantinuumBackend.get_results`. Results are received in a `BackendResult` object and represented as a series of \"shots\", a binary string corresponding to the measurement results for each `Qubit` after each execution of the circuit on the device. This set of shots gives a probability distribution over the set of basis states spanned by the device qubits. Broadly, the closer the probability distribution represented by the set of shots matches the ideal probability distribution, the more accurate the computation can be considered (note we are considering noise here, but the number of shots taken also affects this). <br>"
   ]
  },
  {
   "cell_type": "markdown",
   "metadata": {},
   "source": [
    "One source of error in computation is from \"leakage\". During execution of hardware level two-qubit gates, there is a small probability for the qubit to experience leakage to electronic states outside the qubit subspace. When a qubit has leaked, none of the remaining gates in the circuit acting on the qubit have any effect, but a measurement on that qubit will falsely result in a '1'. For more information we refer to [Eliminating Leakage Errors in Hyperfine Qubits](https://arxiv.org/abs/1912.13131) by D. Hayes, D. Stack, B. Bjork, A. C. Potter, C. H. Baldwin and R. P. Stutz. <br>"
   ]
  },
  {
   "cell_type": "markdown",
   "metadata": {},
   "source": [
    "Using a special circuit \"gadget\" and an ancilla qubit, it's possible to detect leakage errors at the quantum circuit level and so discard erroneous shots. In this notebook we will show how to automatically run experiments with leakage detection added using `QuantinuumBackend.process_circuits` and how to process `BackendResult` returned from `QuantinuumBackend` to remove leaky results. We will also show how this scheme can improve results using a repeated gate benchmarking experiment."
   ]
  },
  {
   "cell_type": "markdown",
   "metadata": {},
   "source": [
    "The leakage detection circuit, or \"gadget\", looks like so: <br>"
   ]
  },
  {
   "cell_type": "code",
   "execution_count": null,
   "metadata": {},
   "outputs": [],
   "source": [
    "from pytket.extensions.quantinuum.backends.leakage_gadget import get_leakage_gadget_circuit\n",
    "from pytket.circuit.display import render_circuit_jupyter\n",
    "from pytket import Qubit, Bit"
   ]
  },
  {
   "cell_type": "code",
   "execution_count": null,
   "metadata": {},
   "outputs": [],
   "source": [
    "render_circuit_jupyter(\n",
    "    get_leakage_gadget_circuit(\n",
    "        Qubit(\"experiment_qubit\", 0),\n",
    "        Qubit(\"leakage_detection_qubit\", 0),\n",
    "        Bit(\"leakage_detection_bit\", 0),\n",
    "    )\n",
    ")"
   ]
  },
  {
   "cell_type": "markdown",
   "metadata": {},
   "source": [
    "The action of this Circuit is such that if leakage hasn't occurred, then the `experiment_qubit` state is unchanged and the `leakage_detection_qubit` is in state \"0\", while if leakage has occurred then the `leakage_detection_qubit` will be in state \"1\" and so can easily be detected. <br>"
   ]
  },
  {
   "cell_type": "markdown",
   "metadata": {},
   "source": [
    "The `pytket-quantinuum` package has methods for automatically modifying a `pytket` `Circuit` to add leakage detection gadgets just before any end of circuit measurement gates. <br>"
   ]
  },
  {
   "cell_type": "markdown",
   "metadata": {},
   "source": [
    "Let's create a basic Bell pair circuit and then modify it."
   ]
  },
  {
   "cell_type": "code",
   "execution_count": null,
   "metadata": {},
   "outputs": [],
   "source": [
    "from pytket.extensions.quantinuum.backends.leakage_gadget import get_detection_circuit\n",
    "from pytket import Circuit"
   ]
  },
  {
   "cell_type": "code",
   "execution_count": null,
   "metadata": {},
   "outputs": [],
   "source": [
    "bell_pair_circuit = Circuit(2).H(0).CX(0, 1).measure_all()\n",
    "bell_pair_leakage_detection_circuit = get_detection_circuit(\n",
    "    circuit=bell_pair_circuit, n_device_qubits=4\n",
    ")"
   ]
  },
  {
   "cell_type": "code",
   "execution_count": null,
   "metadata": {},
   "outputs": [],
   "source": [
    "render_circuit_jupyter(bell_pair_leakage_detection_circuit)"
   ]
  },
  {
   "cell_type": "markdown",
   "metadata": {},
   "source": [
    "We can see that for each of the Bell pair qubits a leakage detection gadget has been appended before the final measurement. <br> <br>"
   ]
  },
  {
   "cell_type": "markdown",
   "metadata": {},
   "source": [
    "The parameter `n_device_qubits` tells `get_detection_circuit` how many qubits the device has. In this case we stated there were 4 device qubits while the Bell pair circuit had 2 qubits, meaning a separate qubit was used for each leakage detection gadget. However, if there are too few device qubits then `get_detection_circuit` will reuse ancilla qubits to do multiple leakage detections, assigning the results to different `Bit`. We can see this by setting `n_device_qubits = 3`."
   ]
  },
  {
   "cell_type": "code",
   "execution_count": null,
   "metadata": {},
   "outputs": [],
   "source": [
    "render_circuit_jupyter(get_detection_circuit(circuit=bell_pair_circuit, n_device_qubits=3))"
   ]
  },
  {
   "cell_type": "markdown",
   "metadata": {},
   "source": [
    "The `QuantinuumBackend.process_circuits` method takes an optional `kwarg` `leakage_detection` which when `True`, will pass every circuit through `get_detection_circuit` before passing it to the hardware. This means all circuits will be executed with leakage detection added. <br>"
   ]
  },
  {
   "cell_type": "markdown",
   "metadata": {},
   "source": [
    "When passing a `ResultHandle` to `QuantinuumBackend.get_result`,  the retrieved `BackendResult` will include measurement results from the leakage detection qubits."
   ]
  },
  {
   "cell_type": "code",
   "execution_count": null,
   "metadata": {},
   "outputs": [],
   "source": [
    "from pytket.extensions.quantinuum import QuantinuumBackend"
   ]
  },
  {
   "cell_type": "code",
   "execution_count": null,
   "metadata": {},
   "outputs": [],
   "source": [
    "circuit = Circuit(2, 2).H(0).CX(0, 1).measure_all()\n",
    "# Note for demonstration purposes this is not calling the real hardware.\n",
    "backend = QuantinuumBackend(device_name=\"H1-2E\")\n",
    "handle = backend.process_circuit(circuit, n_shots=10000, leakage_detection=True)\n",
    "result = backend.get_result(handle)"
   ]
  },
  {
   "cell_type": "markdown",
   "metadata": {},
   "source": [
    "We can see in the returned results that there are additional `Bit` for detecting leakage. </br>"
   ]
  },
  {
   "cell_type": "markdown",
   "metadata": {},
   "source": [
    "By passing an ordering of `Bit` to `result.get_counts()`, we ensure that the final two entries in each bitstring correspond to the measurement results for the leakage detection Qubit. </br>"
   ]
  },
  {
   "cell_type": "markdown",
   "metadata": {},
   "source": [
    "If each of these entries is a \"1\" then leakage has occurred and these counts should be removed."
   ]
  },
  {
   "cell_type": "code",
   "execution_count": null,
   "metadata": {},
   "outputs": [],
   "source": [
    "print(\"Bit with measurement results:\", list(result.c_bits.keys()))\n",
    "for bitstring, count in result.get_counts(\n",
    "    [Bit(0), Bit(1), Bit(\"leakage_detection_bit\", 0), Bit(\"leakage_detection_bit\", 1)]\n",
    ").items():\n",
    "    print(bitstring, count)"
   ]
  },
  {
   "cell_type": "markdown",
   "metadata": {},
   "source": [
    "We can now use the method `prune_shots_detected_as_leaky` to modify this `BackendResult` object, removing counts corresponding to leaked results."
   ]
  },
  {
   "cell_type": "code",
   "execution_count": null,
   "metadata": {},
   "outputs": [],
   "source": [
    "from pytket.extensions.quantinuum import prune_shots_detected_as_leaky"
   ]
  },
  {
   "cell_type": "code",
   "execution_count": null,
   "metadata": {},
   "outputs": [],
   "source": [
    "pruned_result = prune_shots_detected_as_leaky(result)\n",
    "print(\"Bit with measurement results:\", list(pruned_result.c_bits.keys()))\n",
    "for bitstring, count in pruned_result.get_counts([Bit(0), Bit(1)]).items():\n",
    "    print(bitstring, count)"
   ]
  },
  {
   "cell_type": "markdown",
   "metadata": {},
   "source": [
    "## Benchmarking circuit improvement with leakage detection"
   ]
  },
  {
   "cell_type": "markdown",
   "metadata": {},
   "source": [
    "In this section we will demonstrate how using leakage detection can improve the results of a circuit. Since the probability of a qubit having leaked during a circuit increases with the number of two-qubit gates that the qubit participates in, we use a deep circuit in order to measure a statistically significant improvement. The following circuit repeats the native two-qubit gate many times and is such that the final state is ideally $| 00\\rangle$."
   ]
  },
  {
   "cell_type": "code",
   "execution_count": null,
   "metadata": {},
   "outputs": [],
   "source": [
    "circuit = Circuit(2, 2)\n",
    "for _ in range(200):\n",
    "    circuit.ZZMax(0, 1)\n",
    "    circuit.add_barrier([0, 1])\n",
    "circuit.measure_all()"
   ]
  },
  {
   "cell_type": "markdown",
   "metadata": {},
   "source": [
    "We next run the circuit through the Quantinuum H1-2 emulator, which realistically models leakage during the two-qubit gates. We create two circuit handles, one without and the other with leakage detection."
   ]
  },
  {
   "cell_type": "code",
   "execution_count": null,
   "metadata": {},
   "outputs": [],
   "source": [
    "backend = QuantinuumBackend(device_name=\"H1-2E\")\n",
    "compiled_circuit = backend.get_compiled_circuit(circuit, optimisation_level=0)\n",
    "handle_no_leakage = backend.process_circuit(compiled_circuit, n_shots=10000, leakage_detection=False)\n",
    "handle_leakage = backend.process_circuit(compiled_circuit, n_shots=10000, leakage_detection=True)"
   ]
  },
  {
   "cell_type": "markdown",
   "metadata": {},
   "source": [
    "When submitting circuits to the Quantinuum hardware emulator, it is a good idea to check the status of the circuits."
   ]
  },
  {
   "cell_type": "code",
   "execution_count": null,
   "metadata": {},
   "outputs": [],
   "source": [
    "for handle in [handle_no_leakage, handle_leakage]:\n",
    "    print(backend.circuit_status(handle).status)"
   ]
  },
  {
   "cell_type": "markdown",
   "metadata": {},
   "source": [
    "We now get the results from the circuits, and compare the success probabilities."
   ]
  },
  {
   "cell_type": "code",
   "execution_count": null,
   "metadata": {},
   "outputs": [],
   "source": [
    "import numpy as np"
   ]
  },
  {
   "cell_type": "code",
   "execution_count": null,
   "metadata": {},
   "outputs": [],
   "source": [
    "counts_no_leakage = backend.get_result(handle_no_leakage).get_counts()\n",
    "counts_leakage = prune_shots_detected_as_leaky(backend.get_result(handle_leakage)).get_counts()"
   ]
  },
  {
   "cell_type": "code",
   "execution_count": null,
   "metadata": {},
   "outputs": [],
   "source": [
    "print(\"Counts without leakage detection:\", counts_no_leakage)\n",
    "print(\"Counts with leakage detection:\", counts_leakage)"
   ]
  },
  {
   "cell_type": "code",
   "execution_count": null,
   "metadata": {},
   "outputs": [],
   "source": [
    "n_shots_no_leakage = sum(counts_no_leakage.values())\n",
    "n_shots_leakage = sum(counts_leakage.values())"
   ]
  },
  {
   "cell_type": "code",
   "execution_count": null,
   "metadata": {},
   "outputs": [],
   "source": [
    "prob_no_leakage = counts_no_leakage.get((0, 0)) / n_shots_no_leakage\n",
    "prob_leakage = counts_leakage.get((0, 0)) / n_shots_leakage"
   ]
  },
  {
   "cell_type": "code",
   "execution_count": null,
   "metadata": {},
   "outputs": [],
   "source": [
    "std_no_leakage = np.sqrt(prob_no_leakage * (1 - prob_no_leakage) / n_shots_no_leakage)\n",
    "std_leakage = np.sqrt(prob_leakage * (1 - prob_leakage) / n_shots_leakage)"
   ]
  },
  {
   "cell_type": "code",
   "execution_count": null,
   "metadata": {},
   "outputs": [],
   "source": [
    "print(f\"Success probability without leakage detection: {round(prob_no_leakage,4)} +/- {round(std_no_leakage,4)}\")\n",
    "print(f\"Success probability with leakage detection:    {round(prob_leakage,4)} +/- {round(std_leakage,4)}\")"
   ]
  },
  {
   "cell_type": "markdown",
   "metadata": {},
   "source": [
    "<div align=\"center\"> &copy; 2023 by Quantinuum. All Rights Reserved. </div>"
   ]
  }
 ],
 "metadata": {
  "kernelspec": {
   "display_name": "Python 3 (ipykernel)",
   "language": "python",
   "name": "python3"
  },
  "language_info": {
   "codemirror_mode": {
    "name": "ipython",
    "version": 3
   },
   "file_extension": ".py",
   "mimetype": "text/x-python",
   "name": "python",
   "nbconvert_exporter": "python",
   "pygments_lexer": "ipython3",
   "version": "3.10.11"
  }
 },
 "nbformat": 4,
 "nbformat_minor": 2
}
