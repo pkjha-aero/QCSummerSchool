{
 "cells": [
  {
   "cell_type": "code",
   "execution_count": 1,
   "id": "ff18d1f4",
   "metadata": {},
   "outputs": [
    {
     "name": "stdout",
     "output_type": "stream",
     "text": [
      "Machine status: H1-2E is reserved\n"
     ]
    }
   ],
   "source": [
    "from qtuum.api_wrappers import QuantinuumAPI as QAPI\n",
    "import time\n",
    "\n",
    "machine = 'H1-2E'\n",
    "\n",
    "qapi = QAPI(machine=machine)\n",
    "print('Machine status:', qapi.machine, 'is', qapi.status())\n"
   ]
  },
  {
   "cell_type": "code",
   "execution_count": 2,
   "id": "8bf758d9",
   "metadata": {},
   "outputs": [
    {
     "name": "stdin",
     "output_type": "stream",
     "text": [
      "Enter your Quantinuum email:  jha3@llnl.gov\n",
      "Enter your Quantinuum password:  ········\n"
     ]
    }
   ],
   "source": [
    "from pytket.extensions.quantinuum import QuantinuumBackend\n",
    "from pytket.circuit.display import render_circuit_jupyter\n",
    "\n",
    "machine = 'H1-2E'\n",
    "backend = QuantinuumBackend(device_name=machine)\n",
    "backend.login()"
   ]
  },
  {
   "cell_type": "code",
   "execution_count": 4,
   "id": "78922d2d",
   "metadata": {},
   "outputs": [
    {
     "data": {
      "text/plain": [
       "[Unitary1qBox q[0]; Unitary2qBox q[1], q[2]; Unitary2qBox q[1], q[0]; Unitary1qBox q[2]; ]"
      ]
     },
     "execution_count": 4,
     "metadata": {},
     "output_type": "execute_result"
    }
   ],
   "source": [
    "from pytket.circuit import Circuit, Unitary1qBox, Unitary2qBox\n",
    "import numpy as np\n",
    "\n",
    "u1 = np.asarray([[2/3, (-2+1j)/3],\n",
    "                 [(2+1j)/3, 2/3]])\n",
    "u1box = Unitary1qBox(u1)\n",
    "\n",
    "u2 = np.asarray([[0, 1, 0, 0],\n",
    "                 [0, 0, 0, -1],\n",
    "                 [1, 0, 0, 0],\n",
    "                 [0, 0, -1j, 0]])\n",
    "u2box = Unitary2qBox(u2)\n",
    "\n",
    "circ = Circuit(3)\n",
    "circ.add_unitary1qbox(u1box, 0)\n",
    "circ.add_unitary2qbox(u2box, 1, 2)\n",
    "circ.add_unitary1qbox(u1box, 2)\n",
    "circ.add_unitary2qbox(u2box, 1, 0)"
   ]
  },
  {
   "cell_type": "code",
   "execution_count": 5,
   "id": "9209c445",
   "metadata": {},
   "outputs": [],
   "source": [
    "de = 2*np.pi/3.0\n",
    "F3 = 1.0/np.sqrt(3.0) * np.asarray([\n",
    "    [1,              1,              1,          0],\n",
    "    [1,  np.exp(1j*de), np.exp(-1j*de),          0],\n",
    "    [1, np.exp(-1j*de),  np.exp(1j*de),          0],\n",
    "    [0,              0,              0, np.sqrt(3)]\n",
    "])\n",
    "F3_gate = Unitary2qBox(F3)"
   ]
  },
  {
   "cell_type": "code",
   "execution_count": 6,
   "id": "1f9d233b",
   "metadata": {},
   "outputs": [],
   "source": [
    "# Grover Diffusion: 8 gates, 6 U + 2 CX\n",
    "Us = 1/3.0 * np.asarray([\n",
    "    [-1, 2, 2, 0],\n",
    "    [2, -1, 2, 0],\n",
    "    [2, 2, -1, 0],\n",
    "    [0, 0, 0,  3]\n",
    "])\n",
    "Us_gate = Unitary2qBox(Us)"
   ]
  },
  {
   "cell_type": "code",
   "execution_count": 7,
   "id": "21c0f2b1",
   "metadata": {},
   "outputs": [],
   "source": [
    "# Oracle:\n",
    "omega = 1\n",
    "Uw_array = np.asarray([\n",
    "    [1, 0, 0, 0],\n",
    "    [0, 1, 0, 0],\n",
    "    [0, 0, 1, 0],\n",
    "    [0, 0, 0, 1]\n",
    "])\n",
    "Uw_array[omega,omega] = -1\n",
    "Uw_gate = Unitary2qBox(Uw_array)"
   ]
  },
  {
   "cell_type": "code",
   "execution_count": 8,
   "id": "aa386cac",
   "metadata": {},
   "outputs": [
    {
     "data": {
      "text/plain": [
       "[Unitary2qBox q[0], q[1]; Unitary2qBox q[0], q[1]; Unitary2qBox q[0], q[1]; Measure q[0] --> c[0]; Measure q[1] --> c[1]; ]"
      ]
     },
     "execution_count": 8,
     "metadata": {},
     "output_type": "execute_result"
    }
   ],
   "source": [
    "circ = Circuit(2)\n",
    "circ.add_unitary2qbox(F3_gate, 0, 1)\n",
    "circ.add_unitary2qbox(Uw_gate, 0, 1)\n",
    "circ.add_unitary2qbox(Us_gate, 0, 1)\n",
    "circ.measure_all()"
   ]
  },
  {
   "cell_type": "code",
   "execution_count": 9,
   "id": "32d17eb3",
   "metadata": {},
   "outputs": [
    {
     "data": {
      "text/html": [
       "\n",
       "\n",
       "\n",
       "\n",
       "\n",
       "\n",
       "<div style=\"resize: vertical; overflow: auto; height: 400px; display: block\">\n",
       "    <iframe srcdoc=\"\n",
       "&lt;!DOCTYPE html&gt;\n",
       "&lt;html lang=&#34;en&#34;&gt;\n",
       "&lt;head&gt;\n",
       "    &lt;meta charset=&#34;UTF-8&#34;&gt;\n",
       "    &lt;!-- Download Vue 3--&gt;\n",
       "&lt;script type=&#34;application/javascript&#34; src=&#34;https://cdn.jsdelivr.net/npm/vue@3&#34;&gt;&lt;/script&gt;\n",
       "&lt;!-- Download Circuit Renderer with styles --&gt;\n",
       "&lt;script type=&#34;application/javascript&#34; src=&#34;https://unpkg.com/pytket-circuit-renderer@0.6/dist/pytket-circuit-renderer.umd.js&#34;&gt;&lt;/script&gt;\n",
       "&lt;link rel=&#34;stylesheet&#34; href=&#34;https://unpkg.com/pytket-circuit-renderer@0.6/dist/pytket-circuit-renderer.css&#34;&gt;\n",
       "&lt;/head&gt;\n",
       "&lt;body&gt;\n",
       "\n",
       "\n",
       "\n",
       "    &lt;div id=&#34;circuit-display-vue-container-bc5f8d82-1dbd-4c8e-a95d-e6f1063eee16&#34; class=&#34;pytket-circuit-display-container&#34;&gt;\n",
       "        &lt;div style=&#34;display: none&#34;&gt;\n",
       "            &lt;div id=&#34;circuit-json-to-display&#34;&gt;{&#34;bits&#34;: [[&#34;c&#34;, [0]], [&#34;c&#34;, [1]]], &#34;commands&#34;: [{&#34;args&#34;: [[&#34;q&#34;, [0]], [&#34;q&#34;, [1]]], &#34;op&#34;: {&#34;box&#34;: {&#34;id&#34;: &#34;e1438b0c-525f-4ca0-b949-a1bc9f10838a&#34;, &#34;matrix&#34;: [[[0.5773502691896258, 0.0], [0.5773502691896258, 0.0], [0.5773502691896258, 0.0], [0.0, 0.0]], [[0.5773502691896258, 0.0], [-0.2886751345948128, 0.5000000000000001], [-0.2886751345948128, -0.5000000000000001], [0.0, 0.0]], [[0.5773502691896258, 0.0], [-0.2886751345948128, -0.5000000000000001], [-0.2886751345948128, 0.5000000000000001], [0.0, 0.0]], [[0.0, 0.0], [0.0, 0.0], [0.0, 0.0], [1.0, 0.0]]], &#34;type&#34;: &#34;Unitary2qBox&#34;}, &#34;type&#34;: &#34;Unitary2qBox&#34;}}, {&#34;args&#34;: [[&#34;q&#34;, [0]], [&#34;q&#34;, [1]]], &#34;op&#34;: {&#34;box&#34;: {&#34;id&#34;: &#34;a7159c88-b617-4152-a53b-636e3dc0dba2&#34;, &#34;matrix&#34;: [[[1.0, 0.0], [0.0, 0.0], [0.0, 0.0], [0.0, 0.0]], [[0.0, 0.0], [-1.0, 0.0], [0.0, 0.0], [0.0, 0.0]], [[0.0, 0.0], [0.0, 0.0], [1.0, 0.0], [0.0, 0.0]], [[0.0, 0.0], [0.0, 0.0], [0.0, 0.0], [1.0, 0.0]]], &#34;type&#34;: &#34;Unitary2qBox&#34;}, &#34;type&#34;: &#34;Unitary2qBox&#34;}}, {&#34;args&#34;: [[&#34;q&#34;, [0]], [&#34;q&#34;, [1]]], &#34;op&#34;: {&#34;box&#34;: {&#34;id&#34;: &#34;584fd658-3067-41b9-88c0-8c13427016a1&#34;, &#34;matrix&#34;: [[[-0.3333333333333333, 0.0], [0.6666666666666666, 0.0], [0.6666666666666666, 0.0], [0.0, 0.0]], [[0.6666666666666666, 0.0], [-0.3333333333333333, 0.0], [0.6666666666666666, 0.0], [0.0, 0.0]], [[0.6666666666666666, 0.0], [0.6666666666666666, 0.0], [-0.3333333333333333, 0.0], [0.0, 0.0]], [[0.0, 0.0], [0.0, 0.0], [0.0, 0.0], [1.0, 0.0]]], &#34;type&#34;: &#34;Unitary2qBox&#34;}, &#34;type&#34;: &#34;Unitary2qBox&#34;}}, {&#34;args&#34;: [[&#34;q&#34;, [0]], [&#34;c&#34;, [0]]], &#34;op&#34;: {&#34;type&#34;: &#34;Measure&#34;}}, {&#34;args&#34;: [[&#34;q&#34;, [1]], [&#34;c&#34;, [1]]], &#34;op&#34;: {&#34;type&#34;: &#34;Measure&#34;}}], &#34;created_qubits&#34;: [], &#34;discarded_qubits&#34;: [], &#34;implicit_permutation&#34;: [[[&#34;q&#34;, [0]], [&#34;q&#34;, [0]]], [[&#34;q&#34;, [1]], [&#34;q&#34;, [1]]]], &#34;phase&#34;: &#34;0.0&#34;, &#34;qubits&#34;: [[&#34;q&#34;, [0]], [&#34;q&#34;, [1]]]}&lt;/div&gt;\n",
       "        &lt;/div&gt;\n",
       "        &lt;circuit-display-container\n",
       "                :circuit-element-str=&#34;&#39;#circuit-json-to-display&#39;&#34;\n",
       "                :init-render-options=&#34;initRenderOptions&#34;\n",
       "        &gt;&lt;/circuit-display-container&gt;\n",
       "    &lt;/div&gt;\n",
       "    &lt;script type=&#34;application/javascript&#34;&gt;\n",
       "      const circuitRendererUid = &#34;bc5f8d82-1dbd-4c8e-a95d-e6f1063eee16&#34;;\n",
       "      const displayOptions = JSON.parse(&#39;{}&#39;);\n",
       "\n",
       "      // Script to initialise the circuit renderer app\n",
       "\n",
       "const { createApp } = Vue;\n",
       "const circuitDisplayContainer = window[&#34;pytket-circuit-renderer&#34;].default;\n",
       "// Init variables to be shared between circuit display instances\n",
       "if (typeof window.pytketCircuitDisplays === &#34;undefined&#34;) {\n",
       "    window.pytketCircuitDisplays = {};\n",
       "}\n",
       "// Create the root Vue component\n",
       "const app = createApp({\n",
       "    delimiters: [&#39;[[#&#39;, &#39;#]]&#39;],\n",
       "    components: { circuitDisplayContainer },\n",
       "    data () {\n",
       "      return {\n",
       "        initRenderOptions: displayOptions,\n",
       "      }\n",
       "    }\n",
       "})\n",
       "app.config.unwrapInjectedRef = true;\n",
       "app.mount(&#34;#circuit-display-vue-container-&#34;+circuitRendererUid);\n",
       "window.pytketCircuitDisplays[circuitRendererUid] = app;\n",
       "    &lt;/script&gt;\n",
       "\n",
       "\n",
       "\n",
       "&lt;/body&gt;\n",
       "&lt;/html&gt;\n",
       "\"\n",
       "            width=\"100%\" height=\"100%\"\n",
       "            style=\"border: none; outline: none; overflow: auto\"></iframe>\n",
       "</div>\n",
       "\n"
      ],
      "text/plain": [
       "<IPython.core.display.HTML object>"
      ]
     },
     "metadata": {},
     "output_type": "display_data"
    }
   ],
   "source": [
    "#from pytket.circuit.display import render_circuit_jupyter\n",
    "render_circuit_jupyter(circ)"
   ]
  },
  {
   "cell_type": "code",
   "execution_count": 10,
   "id": "f2b8b9f5",
   "metadata": {},
   "outputs": [],
   "source": [
    "compiled_circuit = backend.get_compiled_circuit(circ, optimisation_level=2)"
   ]
  },
  {
   "cell_type": "code",
   "execution_count": 11,
   "id": "5725dbfb",
   "metadata": {},
   "outputs": [
    {
     "data": {
      "text/plain": [
       "6.4848"
      ]
     },
     "execution_count": 11,
     "metadata": {},
     "output_type": "execute_result"
    }
   ],
   "source": [
    "n_shots = 128\n",
    "backend.cost(compiled_circuit, n_shots=n_shots, syntax_checker='H1-1SC')"
   ]
  },
  {
   "cell_type": "code",
   "execution_count": 12,
   "id": "159c601d",
   "metadata": {},
   "outputs": [
    {
     "data": {
      "text/html": [
       "\n",
       "\n",
       "\n",
       "\n",
       "\n",
       "\n",
       "<div style=\"resize: vertical; overflow: auto; height: 400px; display: block\">\n",
       "    <iframe srcdoc=\"\n",
       "&lt;!DOCTYPE html&gt;\n",
       "&lt;html lang=&#34;en&#34;&gt;\n",
       "&lt;head&gt;\n",
       "    &lt;meta charset=&#34;UTF-8&#34;&gt;\n",
       "    &lt;!-- Download Vue 3--&gt;\n",
       "&lt;script type=&#34;application/javascript&#34; src=&#34;https://cdn.jsdelivr.net/npm/vue@3&#34;&gt;&lt;/script&gt;\n",
       "&lt;!-- Download Circuit Renderer with styles --&gt;\n",
       "&lt;script type=&#34;application/javascript&#34; src=&#34;https://unpkg.com/pytket-circuit-renderer@0.6/dist/pytket-circuit-renderer.umd.js&#34;&gt;&lt;/script&gt;\n",
       "&lt;link rel=&#34;stylesheet&#34; href=&#34;https://unpkg.com/pytket-circuit-renderer@0.6/dist/pytket-circuit-renderer.css&#34;&gt;\n",
       "&lt;/head&gt;\n",
       "&lt;body&gt;\n",
       "\n",
       "\n",
       "\n",
       "    &lt;div id=&#34;circuit-display-vue-container-06a4f779-7489-4134-a598-b47fee72e4fa&#34; class=&#34;pytket-circuit-display-container&#34;&gt;\n",
       "        &lt;div style=&#34;display: none&#34;&gt;\n",
       "            &lt;div id=&#34;circuit-json-to-display&#34;&gt;{&#34;bits&#34;: [[&#34;c&#34;, [0]], [&#34;c&#34;, [1]]], &#34;commands&#34;: [{&#34;args&#34;: [[&#34;q&#34;, [0]]], &#34;op&#34;: {&#34;params&#34;: [&#34;0.913104018269511&#34;, &#34;0.41958477720577&#34;], &#34;type&#34;: &#34;PhasedX&#34;}}, {&#34;args&#34;: [[&#34;q&#34;, [1]]], &#34;op&#34;: {&#34;params&#34;: [&#34;0.562778816100633&#34;, &#34;1.82743299849205&#34;], &#34;type&#34;: &#34;PhasedX&#34;}}, {&#34;args&#34;: [[&#34;q&#34;, [0]], [&#34;q&#34;, [1]]], &#34;op&#34;: {&#34;params&#34;: [&#34;0.498843744359498&#34;], &#34;type&#34;: &#34;ZZPhase&#34;}}, {&#34;args&#34;: [[&#34;q&#34;, [0]]], &#34;op&#34;: {&#34;params&#34;: [&#34;0.5&#34;, &#34;0.160601521208667&#34;], &#34;type&#34;: &#34;PhasedX&#34;}}, {&#34;args&#34;: [[&#34;q&#34;, [1]]], &#34;op&#34;: {&#34;params&#34;: [&#34;0.5&#34;, &#34;1.38790936210579&#34;], &#34;type&#34;: &#34;PhasedX&#34;}}, {&#34;args&#34;: [[&#34;q&#34;, [0]], [&#34;q&#34;, [1]]], &#34;op&#34;: {&#34;params&#34;: [&#34;0.25&#34;], &#34;type&#34;: &#34;ZZPhase&#34;}}, {&#34;args&#34;: [[&#34;q&#34;, [0]]], &#34;op&#34;: {&#34;params&#34;: [&#34;1/2&#34;, &#34;-0.339398478791333&#34;], &#34;type&#34;: &#34;PhasedX&#34;}}, {&#34;args&#34;: [[&#34;q&#34;, [1]]], &#34;op&#34;: {&#34;params&#34;: [&#34;1/2&#34;, &#34;0.887909362105787&#34;], &#34;type&#34;: &#34;PhasedX&#34;}}, {&#34;args&#34;: [[&#34;q&#34;, [0]], [&#34;q&#34;, [1]]], &#34;op&#34;: {&#34;params&#34;: [&#34;0.00115625564050164&#34;], &#34;type&#34;: &#34;ZZPhase&#34;}}, {&#34;args&#34;: [[&#34;q&#34;, [0]]], &#34;op&#34;: {&#34;params&#34;: [&#34;-0.250218331129589&#34;, &#34;-0.822729320970737&#34;], &#34;type&#34;: &#34;PhasedX&#34;}}, {&#34;args&#34;: [[&#34;q&#34;, [1]]], &#34;op&#34;: {&#34;params&#34;: [&#34;-0.413955898152448&#34;, &#34;0.798536742792055&#34;], &#34;type&#34;: &#34;PhasedX&#34;}}, {&#34;args&#34;: [[&#34;q&#34;, [0]], [&#34;c&#34;, [0]]], &#34;op&#34;: {&#34;type&#34;: &#34;Measure&#34;}}, {&#34;args&#34;: [[&#34;q&#34;, [1]], [&#34;c&#34;, [1]]], &#34;op&#34;: {&#34;type&#34;: &#34;Measure&#34;}}], &#34;created_qubits&#34;: [[&#34;q&#34;, [0]], [&#34;q&#34;, [1]]], &#34;discarded_qubits&#34;: [], &#34;implicit_permutation&#34;: [[[&#34;q&#34;, [0]], [&#34;q&#34;, [0]]], [[&#34;q&#34;, [1]], [&#34;q&#34;, [1]]]], &#34;phase&#34;: &#34;0.625&#34;, &#34;qubits&#34;: [[&#34;q&#34;, [0]], [&#34;q&#34;, [1]]]}&lt;/div&gt;\n",
       "        &lt;/div&gt;\n",
       "        &lt;circuit-display-container\n",
       "                :circuit-element-str=&#34;&#39;#circuit-json-to-display&#39;&#34;\n",
       "                :init-render-options=&#34;initRenderOptions&#34;\n",
       "        &gt;&lt;/circuit-display-container&gt;\n",
       "    &lt;/div&gt;\n",
       "    &lt;script type=&#34;application/javascript&#34;&gt;\n",
       "      const circuitRendererUid = &#34;06a4f779-7489-4134-a598-b47fee72e4fa&#34;;\n",
       "      const displayOptions = JSON.parse(&#39;{}&#39;);\n",
       "\n",
       "      // Script to initialise the circuit renderer app\n",
       "\n",
       "const { createApp } = Vue;\n",
       "const circuitDisplayContainer = window[&#34;pytket-circuit-renderer&#34;].default;\n",
       "// Init variables to be shared between circuit display instances\n",
       "if (typeof window.pytketCircuitDisplays === &#34;undefined&#34;) {\n",
       "    window.pytketCircuitDisplays = {};\n",
       "}\n",
       "// Create the root Vue component\n",
       "const app = createApp({\n",
       "    delimiters: [&#39;[[#&#39;, &#39;#]]&#39;],\n",
       "    components: { circuitDisplayContainer },\n",
       "    data () {\n",
       "      return {\n",
       "        initRenderOptions: displayOptions,\n",
       "      }\n",
       "    }\n",
       "})\n",
       "app.config.unwrapInjectedRef = true;\n",
       "app.mount(&#34;#circuit-display-vue-container-&#34;+circuitRendererUid);\n",
       "window.pytketCircuitDisplays[circuitRendererUid] = app;\n",
       "    &lt;/script&gt;\n",
       "\n",
       "\n",
       "\n",
       "&lt;/body&gt;\n",
       "&lt;/html&gt;\n",
       "\"\n",
       "            width=\"100%\" height=\"100%\"\n",
       "            style=\"border: none; outline: none; overflow: auto\"></iframe>\n",
       "</div>\n",
       "\n"
      ],
      "text/plain": [
       "<IPython.core.display.HTML object>"
      ]
     },
     "metadata": {},
     "output_type": "display_data"
    }
   ],
   "source": [
    "render_circuit_jupyter(compiled_circuit)"
   ]
  },
  {
   "cell_type": "code",
   "execution_count": 13,
   "id": "d3e573e5",
   "metadata": {},
   "outputs": [
    {
     "name": "stdout",
     "output_type": "stream",
     "text": [
      "CircuitStatus(status=<StatusEnum.QUEUED: 'Circuit is queued.'>, message='{\"name\": \"job\", \"submit-date\": \"2023-07-20T20:51:07.163258\", \"result-date\": null, \"queue-position\": null, \"cost\": null, \"error\": null}', error_detail=None, completed_time=None, queued_time=None, submitted_time=None, running_time=None, cancelled_time=None, error_time=None, queue_position=None)\n"
     ]
    }
   ],
   "source": [
    "handle = backend.process_circuit(compiled_circuit, n_shots=n_shots)\n",
    "status = backend.circuit_status(handle)\n",
    "print(status)"
   ]
  },
  {
   "cell_type": "code",
   "execution_count": 14,
   "id": "8a4197c1",
   "metadata": {},
   "outputs": [
    {
     "data": {
      "text/plain": [
       "BackendResult(q_bits={},c_bits={c[1]: 0, c[0]: 1},counts=None,shots=[[128]\n",
       " [128]\n",
       " [128]\n",
       " [128]\n",
       " [128]\n",
       " [128]\n",
       " [128]\n",
       " [128]\n",
       " [128]\n",
       " [128]\n",
       " [128]\n",
       " [128]\n",
       " [128]\n",
       " [  0]\n",
       " [128]\n",
       " [128]\n",
       " [128]\n",
       " [128]\n",
       " [ 64]\n",
       " [128]\n",
       " [128]\n",
       " [128]\n",
       " [128]\n",
       " [128]\n",
       " [128]\n",
       " [128]\n",
       " [ 64]\n",
       " [128]\n",
       " [128]\n",
       " [128]\n",
       " [128]\n",
       " [128]\n",
       " [128]\n",
       " [128]\n",
       " [128]\n",
       " [128]\n",
       " [128]\n",
       " [128]\n",
       " [128]\n",
       " [128]\n",
       " [128]\n",
       " [128]\n",
       " [128]\n",
       " [128]\n",
       " [128]\n",
       " [128]\n",
       " [128]\n",
       " [128]\n",
       " [128]\n",
       " [128]\n",
       " [128]\n",
       " [128]\n",
       " [128]\n",
       " [128]\n",
       " [128]\n",
       " [128]\n",
       " [128]\n",
       " [128]\n",
       " [128]\n",
       " [128]\n",
       " [128]\n",
       " [ 64]\n",
       " [128]\n",
       " [128]\n",
       " [128]\n",
       " [128]\n",
       " [ 64]\n",
       " [  0]\n",
       " [128]\n",
       " [128]\n",
       " [128]\n",
       " [128]\n",
       " [128]\n",
       " [128]\n",
       " [128]\n",
       " [128]\n",
       " [128]\n",
       " [128]\n",
       " [128]\n",
       " [128]\n",
       " [128]\n",
       " [  0]\n",
       " [128]\n",
       " [128]\n",
       " [128]\n",
       " [128]\n",
       " [128]\n",
       " [128]\n",
       " [128]\n",
       " [128]\n",
       " [128]\n",
       " [128]\n",
       " [128]\n",
       " [128]\n",
       " [128]\n",
       " [128]\n",
       " [128]\n",
       " [128]\n",
       " [128]\n",
       " [128]\n",
       " [128]\n",
       " [128]\n",
       " [128]\n",
       " [128]\n",
       " [128]\n",
       " [128]\n",
       " [128]\n",
       " [128]\n",
       " [128]\n",
       " [128]\n",
       " [128]\n",
       " [128]\n",
       " [128]\n",
       " [128]\n",
       " [128]\n",
       " [128]\n",
       " [  0]\n",
       " [128]\n",
       " [128]\n",
       " [ 64]\n",
       " [128]\n",
       " [128]\n",
       " [128]\n",
       " [128]\n",
       " [128]\n",
       " [128]\n",
       " [128]\n",
       " [128]],state=None,unitary=None,density_matrix=None)"
      ]
     },
     "execution_count": 14,
     "metadata": {},
     "output_type": "execute_result"
    }
   ],
   "source": [
    "result = backend.get_result(handle)\n",
    "\n",
    "result"
   ]
  },
  {
   "cell_type": "code",
   "execution_count": 15,
   "id": "6dba6d66",
   "metadata": {},
   "outputs": [
    {
     "name": "stdout",
     "output_type": "stream",
     "text": [
      "{(0, 0): 0.03125, (0, 1): 0.9296875, (1, 0): 0.0390625}\n"
     ]
    }
   ],
   "source": [
    "result = backend.get_result(handle)\n",
    "print(result.get_distribution())"
   ]
  }
 ],
 "metadata": {
  "kernelspec": {
   "display_name": "qtuum",
   "language": "python",
   "name": "qtuum"
  },
  "language_info": {
   "codemirror_mode": {
    "name": "ipython",
    "version": 3
   },
   "file_extension": ".py",
   "mimetype": "text/x-python",
   "name": "python",
   "nbconvert_exporter": "python",
   "pygments_lexer": "ipython3",
   "version": "3.11.4"
  }
 },
 "nbformat": 4,
 "nbformat_minor": 5
}
