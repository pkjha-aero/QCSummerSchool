{
 "cells": [
  {
   "attachments": {
    "Quantinuum%20Logos_primary_blue_small.svg": {
     "image/svg+xml": [
      "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"
     ]
    }
   },
   "cell_type": "markdown",
   "metadata": {},
   "source": [
    "![Quantinuum%20Logos_primary_blue_small.svg](attachment:Quantinuum%20Logos_primary_blue_small.svg)"
   ]
  },
  {
   "cell_type": "markdown",
   "metadata": {},
   "source": [
    "# Circuit Submissions for Quantinuum\n",
    "\n",
    "This notebook contains an example of circuit submission via the Quantinuum API. The step by step process for submitting to the device is given as well as a recommended workflow.\n",
    "\n",
    "See the *Quantinuum Systems User Guide* in the *Examples* tab on the [Quantinuum User Portal](https://um.qapi.quantinuum.com/) for detailed information on each of the systems available and workflow information including job submission, queueing, and data retention.\n",
    "\n",
    "* [Step by Step](#step-by-step)\n",
    "* [TKET Compilation Passes in the H-Series Stack](#tket-comp)\n",
    "* [Recommended Workflow](#recommended-workflow)"
   ]
  },
  {
   "cell_type": "markdown",
   "metadata": {},
   "source": [
    "## Step by Step <a class=\"anchor\" id=\"step-by-step\"></a>\n",
    "\n",
    "### Select Device\n",
    "\n",
    "See the *Quantinuum Systems User Guide* in the *Examples* tab on the *Quantinuum User Portal* for information and target names for each of the H-Series systems available.\n",
    "\n",
    "Login to the Quantinuum API using your credentials and check the device status. \n",
    "\n",
    "**Note:** If you set up access with a Microsoft account, use the `provider='Microsoft'` flag to `QAPI`. See the `0 - Signing into the Quantinuum User Portal` notebook for additional login examples and details."
   ]
  },
  {
   "cell_type": "code",
   "execution_count": 1,
   "metadata": {},
   "outputs": [
    {
     "name": "stdout",
     "output_type": "stream",
     "text": [
      "Machine status: H1-2E is reserved\n"
     ]
    }
   ],
   "source": [
    "from qtuum.api_wrappers import QuantinuumAPI as QAPI\n",
    "import time\n",
    "\n",
    "machine = 'H1-2E'\n",
    "\n",
    "qapi = QAPI(machine=machine)\n",
    "print('Machine status:', qapi.machine, 'is', qapi.status())"
   ]
  },
  {
   "cell_type": "markdown",
   "metadata": {},
   "source": [
    "### Circuit Preparation\n",
    "\n",
    "The Quantinuum API accepts circuits in the [OpenQASM](https://github.com/Qiskit/openqasm) format. Here we generate a Bell-state preparation circuit in OpenQASM.\n",
    "\n",
    "There are multiple libraries that support conversion to and from the OpenQASM format. Here OpenQASM usage is given directly, but the following python packages can be used. Note these python packages are not guaranteed to have additional capabilities enabled by the the Quantinuum OpenQASM Extension. See the *Extensions Example* notebook for information about Quantinuum-specific OpenQASM extensions.\n",
    "1. [pytket](https://cqcl.github.io/pytket/manual/manual_circuit.html#importing-exporting-circuits)\n",
    "2. [qiskit](https://qiskit.org/documentation/stubs/qiskit.circuit.QuantumCircuit.qasm.html)"
   ]
  },
  {
   "cell_type": "code",
   "execution_count": 2,
   "metadata": {},
   "outputs": [
    {
     "name": "stdout",
     "output_type": "stream",
     "text": [
      "\n",
      "// Header\n",
      "OPENQASM 2.0;\n",
      "include \"qelib1.inc\";\n",
      "\n",
      "// Registers\n",
      "qreg q[2];\n",
      "creg cr[2];\n",
      "\n",
      "// Gates\n",
      "h q[0];\n",
      "CX q[0], q[1];\n",
      "\n",
      "// Measurement\n",
      "measure q -> cr;\n",
      "\n",
      "\n"
     ]
    }
   ],
   "source": [
    "openqasm = \"\"\"\n",
    "// Header\n",
    "OPENQASM 2.0;\n",
    "include \"qelib1.inc\";\n",
    "\n",
    "// Registers\n",
    "qreg q[2];\n",
    "creg cr[2];\n",
    "\n",
    "// Gates\n",
    "h q[0];\n",
    "CX q[0], q[1];\n",
    "\n",
    "// Measurement\n",
    "measure q -> cr;\n",
    "\n",
    "\"\"\"\n",
    "\n",
    "print(openqasm)"
   ]
  },
  {
   "cell_type": "markdown",
   "metadata": {},
   "source": [
    "### Submit the Circuit\n",
    "\n",
    "Now we submit the circuit with the `submit_job()` function in `api_wrappers.py`.\n",
    "\n",
    "- `shots`: The number of times you want to run this quantum program \n",
    "- `machine`: The machine you want to run this job against\n",
    "- `name`: The name of the job"
   ]
  },
  {
   "cell_type": "code",
   "execution_count": 3,
   "metadata": {},
   "outputs": [
    {
     "name": "stdout",
     "output_type": "stream",
     "text": [
      "submitted circuit example id=5db131b80c944abab73421936b47b525, submit date=2023-07-21T22:55:31.164512\n"
     ]
    }
   ],
   "source": [
    "shots = 100\n",
    "\n",
    "job_id = qapi.submit_job(openqasm, \n",
    "                         shots=shots, \n",
    "                         machine=machine, \n",
    "                         name='circuit example')"
   ]
  },
  {
   "cell_type": "markdown",
   "metadata": {},
   "source": [
    "### Check Status\n",
    "\n",
    "Once submitted, a job's status can be checked using the `retrieve_job_status` function. This will return information on whether the job has been queued or completed. Job status can also be viewed in the user portal."
   ]
  },
  {
   "cell_type": "code",
   "execution_count": 4,
   "metadata": {},
   "outputs": [
    {
     "data": {
      "text/plain": [
       "{'job': '5db131b80c944abab73421936b47b525',\n",
       " 'name': 'circuit example',\n",
       " 'status': 'completed',\n",
       " 'cost': '5.66',\n",
       " 'start-date': '2023-07-21T22:55:37.548260',\n",
       " 'end-date': '2023-07-21T22:55:38.269884',\n",
       " 'submit-date': '2023-07-21T22:55:31.164512',\n",
       " 'result-date': '2023-07-21T22:55:38.741975',\n",
       " 'machine': 'H1-2E',\n",
       " 'results': {'cr': ['00',\n",
       "   '00',\n",
       "   '00',\n",
       "   '11',\n",
       "   '11',\n",
       "   '00',\n",
       "   '11',\n",
       "   '00',\n",
       "   '11',\n",
       "   '00',\n",
       "   '00',\n",
       "   '11',\n",
       "   '00',\n",
       "   '11',\n",
       "   '11',\n",
       "   '00',\n",
       "   '00',\n",
       "   '11',\n",
       "   '11',\n",
       "   '11',\n",
       "   '11',\n",
       "   '00',\n",
       "   '00',\n",
       "   '00',\n",
       "   '00',\n",
       "   '11',\n",
       "   '00',\n",
       "   '00',\n",
       "   '00',\n",
       "   '11',\n",
       "   '00',\n",
       "   '00',\n",
       "   '11',\n",
       "   '11',\n",
       "   '11',\n",
       "   '11',\n",
       "   '00',\n",
       "   '11',\n",
       "   '00',\n",
       "   '00',\n",
       "   '00',\n",
       "   '11',\n",
       "   '11',\n",
       "   '11',\n",
       "   '11',\n",
       "   '00',\n",
       "   '11',\n",
       "   '00',\n",
       "   '00',\n",
       "   '00',\n",
       "   '00',\n",
       "   '11',\n",
       "   '11',\n",
       "   '00',\n",
       "   '00',\n",
       "   '00',\n",
       "   '11',\n",
       "   '00',\n",
       "   '11',\n",
       "   '11',\n",
       "   '00',\n",
       "   '11',\n",
       "   '00',\n",
       "   '11',\n",
       "   '00',\n",
       "   '00',\n",
       "   '00',\n",
       "   '11',\n",
       "   '00',\n",
       "   '11',\n",
       "   '00',\n",
       "   '11',\n",
       "   '00',\n",
       "   '00',\n",
       "   '00',\n",
       "   '11',\n",
       "   '00',\n",
       "   '00',\n",
       "   '11',\n",
       "   '00',\n",
       "   '11',\n",
       "   '11',\n",
       "   '00',\n",
       "   '11',\n",
       "   '11',\n",
       "   '11',\n",
       "   '11',\n",
       "   '00',\n",
       "   '00',\n",
       "   '00',\n",
       "   '00',\n",
       "   '11',\n",
       "   '00',\n",
       "   '00',\n",
       "   '00',\n",
       "   '00',\n",
       "   '11',\n",
       "   '11',\n",
       "   '00',\n",
       "   '11']}}"
      ]
     },
     "execution_count": 4,
     "metadata": {},
     "output_type": "execute_result"
    }
   ],
   "source": [
    "status = qapi.retrieve_job_status(job_id)\n",
    "\n",
    "status"
   ]
  },
  {
   "cell_type": "markdown",
   "metadata": {},
   "source": [
    "### Return Results\n",
    "\n",
    "When a job completes the results can be fetched using the `retrieve_job()`. Data is returned as a dictionary with key-value pairs outlined in the *Quantinuum API Specification*."
   ]
  },
  {
   "cell_type": "code",
   "execution_count": 7,
   "metadata": {},
   "outputs": [
    {
     "data": {
      "text/plain": [
       "{'job': '5db131b80c944abab73421936b47b525',\n",
       " 'name': 'circuit example',\n",
       " 'status': 'completed',\n",
       " 'cost': '5.66',\n",
       " 'start-date': '2023-07-21T22:55:37.548260',\n",
       " 'end-date': '2023-07-21T22:55:38.269884',\n",
       " 'submit-date': '2023-07-21T22:55:31.164512',\n",
       " 'result-date': '2023-07-21T22:55:38.741975',\n",
       " 'machine': 'H1-2E',\n",
       " 'results': {'cr': ['00',\n",
       "   '00',\n",
       "   '00',\n",
       "   '11',\n",
       "   '11',\n",
       "   '00',\n",
       "   '11',\n",
       "   '00',\n",
       "   '11',\n",
       "   '00',\n",
       "   '00',\n",
       "   '11',\n",
       "   '00',\n",
       "   '11',\n",
       "   '11',\n",
       "   '00',\n",
       "   '00',\n",
       "   '11',\n",
       "   '11',\n",
       "   '11',\n",
       "   '11',\n",
       "   '00',\n",
       "   '00',\n",
       "   '00',\n",
       "   '00',\n",
       "   '11',\n",
       "   '00',\n",
       "   '00',\n",
       "   '00',\n",
       "   '11',\n",
       "   '00',\n",
       "   '00',\n",
       "   '11',\n",
       "   '11',\n",
       "   '11',\n",
       "   '11',\n",
       "   '00',\n",
       "   '11',\n",
       "   '00',\n",
       "   '00',\n",
       "   '00',\n",
       "   '11',\n",
       "   '11',\n",
       "   '11',\n",
       "   '11',\n",
       "   '00',\n",
       "   '11',\n",
       "   '00',\n",
       "   '00',\n",
       "   '00',\n",
       "   '00',\n",
       "   '11',\n",
       "   '11',\n",
       "   '00',\n",
       "   '00',\n",
       "   '00',\n",
       "   '11',\n",
       "   '00',\n",
       "   '11',\n",
       "   '11',\n",
       "   '00',\n",
       "   '11',\n",
       "   '00',\n",
       "   '11',\n",
       "   '00',\n",
       "   '00',\n",
       "   '00',\n",
       "   '11',\n",
       "   '00',\n",
       "   '11',\n",
       "   '00',\n",
       "   '11',\n",
       "   '00',\n",
       "   '00',\n",
       "   '00',\n",
       "   '11',\n",
       "   '00',\n",
       "   '00',\n",
       "   '11',\n",
       "   '00',\n",
       "   '11',\n",
       "   '11',\n",
       "   '00',\n",
       "   '11',\n",
       "   '11',\n",
       "   '11',\n",
       "   '11',\n",
       "   '00',\n",
       "   '00',\n",
       "   '00',\n",
       "   '00',\n",
       "   '11',\n",
       "   '00',\n",
       "   '00',\n",
       "   '00',\n",
       "   '00',\n",
       "   '11',\n",
       "   '11',\n",
       "   '00',\n",
       "   '11']}}"
      ]
     },
     "execution_count": 7,
     "metadata": {},
     "output_type": "execute_result"
    }
   ],
   "source": [
    "results = qapi.retrieve_job(job_id)\n",
    "\n",
    "results"
   ]
  },
  {
   "cell_type": "markdown",
   "metadata": {},
   "source": [
    "#### Formatting Results\n",
    "\n",
    "Data can be formatted by passing the `results_format` parameter in the `retrieve_job()` function.\n",
    "\n",
    "Available options for `results_format`:\n",
    "- `raw`: Return the raw unformatted job results. This is also the default option if this parameter is omitted. \n",
    "- `histogram-flat`: A simple histogram depicting the distribution/frequency of each unique bit string in the job results."
   ]
  },
  {
   "cell_type": "code",
   "execution_count": 8,
   "metadata": {},
   "outputs": [
    {
     "data": {
      "text/plain": [
       "{'job': '5db131b80c944abab73421936b47b525',\n",
       " 'name': 'circuit example',\n",
       " 'status': 'completed',\n",
       " 'cost': '5.66',\n",
       " 'start-date': '2023-07-21T22:55:37.548260',\n",
       " 'end-date': '2023-07-21T22:55:38.269884',\n",
       " 'submit-date': '2023-07-21T22:55:31.164512',\n",
       " 'result-date': '2023-07-21T22:55:38.741975',\n",
       " 'machine': 'H1-2E',\n",
       " 'results': {'cr': {'00': 55, '11': 45}}}"
      ]
     },
     "execution_count": 8,
     "metadata": {},
     "output_type": "execute_result"
    }
   ],
   "source": [
    "results_flat = qapi.retrieve_job(job_id,\n",
    "                                 results_format=\"histogram-flat\")\n",
    "\n",
    "results_flat"
   ]
  },
  {
   "cell_type": "markdown",
   "metadata": {},
   "source": [
    "#### Websockets Example\n",
    "\n",
    "The results can be formatted for websocket requests as well. This is the default connection type if the `use_websocket` parameter is omitted. "
   ]
  },
  {
   "cell_type": "code",
   "execution_count": 9,
   "metadata": {},
   "outputs": [
    {
     "name": "stdout",
     "output_type": "stream",
     "text": [
      "submitted small web socket circuit test id=872010948c0f43408b2ac304e22d4131, submit date=2023-07-21T22:56:47.454735\n"
     ]
    }
   ],
   "source": [
    "ws_job_id = qapi.submit_job(openqasm, \n",
    "                            shots=shots, \n",
    "                            machine=machine, \n",
    "                            name='small web socket circuit test') "
   ]
  },
  {
   "cell_type": "code",
   "execution_count": 10,
   "metadata": {},
   "outputs": [
    {
     "name": "stdout",
     "output_type": "stream",
     "text": [
      "{'cr': ['00', '11', '11', '11', '00', '00', '11', '00', '00', '00', '00', '11', '11', '00', '11', '11', '00', '00', '00', '11', '00', '00', '00', '00', '00', '11', '11', '00', '00', '11', '00', '00', '00', '11', '00', '00', '11', '11', '00', '00', '00', '00', '00', '11', '11', '11', '00', '11', '00', '00', '11', '11', '00', '00', '11', '11', '11', '00', '00', '00', '11', '11', '11', '00', '00', '00', '11', '11', '11', '00', '11', '11', '00', '11', '11', '00', '00', '00', '11', '00', '00', '00', '11', '00', '11', '00', '00', '10', '00', '00', '00', '00', '11', '00', '00', '11', '00', '11', '11', '11']}\n"
     ]
    }
   ],
   "source": [
    "ws_results = qapi.retrieve_job(ws_job_id, \n",
    "                               use_websocket=True)\n",
    "\n",
    "print(ws_results[\"results\"])"
   ]
  },
  {
   "cell_type": "markdown",
   "metadata": {},
   "source": [
    "### Saving Results\n",
    "\n",
    "It is **highly** recommended to save results after jobs are completed in order to avoid losing results. The Quantinuum data retention policy keeps job data on the user portal for 40 days. See the *Quantinuum Systems User Guide* in the *Examples* tab on the [Quantinuum User Portal](https://um.qapi.quantinuum.com/) for more information on the data retention policy. Below the results are saved in a json file."
   ]
  },
  {
   "cell_type": "code",
   "execution_count": 11,
   "metadata": {},
   "outputs": [],
   "source": [
    "import json\n",
    "\n",
    "with open(f'results_{results[\"name\"]}.json', 'w') as f:\n",
    "    json.dump(results, f)"
   ]
  },
  {
   "cell_type": "markdown",
   "metadata": {},
   "source": [
    "### Canceling jobs\n",
    "\n",
    "Jobs that have been submitted can also be cancelled if needed."
   ]
  },
  {
   "cell_type": "code",
   "execution_count": 12,
   "metadata": {},
   "outputs": [
    {
     "name": "stdout",
     "output_type": "stream",
     "text": [
      "submitted small circuit test id=c2679dead5ee4c99b11c7236f3748fbc, submit date=2023-07-21T22:58:08.696347\n"
     ]
    }
   ],
   "source": [
    "job_id = qapi.submit_job(openqasm,\n",
    "                         shots=shots,\n",
    "                         machine=machine,\n",
    "                         name='small circuit test') "
   ]
  },
  {
   "cell_type": "code",
   "execution_count": 13,
   "metadata": {},
   "outputs": [
    {
     "data": {
      "text/plain": [
       "{}"
      ]
     },
     "execution_count": 13,
     "metadata": {},
     "output_type": "execute_result"
    }
   ],
   "source": [
    "results = qapi.cancel(job_id)\n",
    "\n",
    "results"
   ]
  },
  {
   "cell_type": "markdown",
   "metadata": {},
   "source": [
    "### Submit to a Machine Family\n",
    "\n",
    "If you would like faster access to hardware between the quantum computers available, you can submit to a Hardware Family. Submitting this way will run the job on whatever device is available first that has the number of qubits needed. "
   ]
  },
  {
   "cell_type": "code",
   "execution_count": 39,
   "metadata": {},
   "outputs": [
    {
     "name": "stdout",
     "output_type": "stream",
     "text": [
      "submitted circuit test id=2856b49a4d4743e985f1bd875bb1f039, submit date=2023-07-21T23:03:15.755793\n"
     ]
    }
   ],
   "source": [
    "machine = 'H1-2E'\n",
    "\n",
    "qapi = QAPI(machine=machine)\n",
    "job_id = qapi.submit_job(openqasm,\n",
    "                         machine=machine, \n",
    "                         name='circuit test') "
   ]
  },
  {
   "cell_type": "code",
   "execution_count": 16,
   "metadata": {},
   "outputs": [
    {
     "data": {
      "text/plain": [
       "{'job': '82d5a67c41af41ebab525f28bce768ff',\n",
       " 'name': 'circuit test',\n",
       " 'status': 'queued',\n",
       " 'cost': '5.66',\n",
       " 'submit-date': '2023-07-21T22:59:09.785359',\n",
       " 'machine': 'H1-2E',\n",
       " 'websocket': {'task_token': '82d5a67c41af41ebab525f28bce768ff_a9221efa-042f-40cd-9506-136376d96d6b',\n",
       "  'executionArn': ''}}"
      ]
     },
     "execution_count": 16,
     "metadata": {},
     "output_type": "execute_result"
    }
   ],
   "source": [
    "status = qapi.retrieve_job_status(job_id)\n",
    "\n",
    "status"
   ]
  },
  {
   "cell_type": "code",
   "execution_count": 17,
   "metadata": {},
   "outputs": [
    {
     "data": {
      "text/plain": [
       "{'job': '82d5a67c41af41ebab525f28bce768ff',\n",
       " 'name': 'circuit test',\n",
       " 'status': 'completed',\n",
       " 'cost': '5.66',\n",
       " 'start-date': '2023-07-21T22:59:18.571562',\n",
       " 'end-date': '2023-07-21T22:59:19.082041',\n",
       " 'submit-date': '2023-07-21T22:59:09.785359',\n",
       " 'result-date': '2023-07-21T22:59:19.523856',\n",
       " 'machine': 'H1-2E',\n",
       " 'results': {'cr': ['00',\n",
       "   '11',\n",
       "   '11',\n",
       "   '11',\n",
       "   '00',\n",
       "   '11',\n",
       "   '11',\n",
       "   '11',\n",
       "   '11',\n",
       "   '11',\n",
       "   '00',\n",
       "   '11',\n",
       "   '00',\n",
       "   '00',\n",
       "   '00',\n",
       "   '11',\n",
       "   '11',\n",
       "   '00',\n",
       "   '11',\n",
       "   '11',\n",
       "   '00',\n",
       "   '11',\n",
       "   '11',\n",
       "   '00',\n",
       "   '00',\n",
       "   '11',\n",
       "   '11',\n",
       "   '00',\n",
       "   '00',\n",
       "   '11',\n",
       "   '11',\n",
       "   '00',\n",
       "   '11',\n",
       "   '11',\n",
       "   '00',\n",
       "   '11',\n",
       "   '00',\n",
       "   '11',\n",
       "   '11',\n",
       "   '00',\n",
       "   '11',\n",
       "   '11',\n",
       "   '00',\n",
       "   '11',\n",
       "   '00',\n",
       "   '00',\n",
       "   '00',\n",
       "   '11',\n",
       "   '11',\n",
       "   '00',\n",
       "   '11',\n",
       "   '11',\n",
       "   '11',\n",
       "   '00',\n",
       "   '00',\n",
       "   '11',\n",
       "   '11',\n",
       "   '00',\n",
       "   '00',\n",
       "   '11',\n",
       "   '00',\n",
       "   '11',\n",
       "   '11',\n",
       "   '00',\n",
       "   '00',\n",
       "   '00',\n",
       "   '00',\n",
       "   '11',\n",
       "   '11',\n",
       "   '11',\n",
       "   '11',\n",
       "   '11',\n",
       "   '11',\n",
       "   '11',\n",
       "   '11',\n",
       "   '11',\n",
       "   '00',\n",
       "   '11',\n",
       "   '11',\n",
       "   '11',\n",
       "   '00',\n",
       "   '00',\n",
       "   '11',\n",
       "   '00',\n",
       "   '11',\n",
       "   '11',\n",
       "   '11',\n",
       "   '11',\n",
       "   '11',\n",
       "   '00',\n",
       "   '00',\n",
       "   '11',\n",
       "   '11',\n",
       "   '00',\n",
       "   '11',\n",
       "   '11',\n",
       "   '11',\n",
       "   '11',\n",
       "   '00',\n",
       "   '11']}}"
      ]
     },
     "execution_count": 17,
     "metadata": {},
     "output_type": "execute_result"
    }
   ],
   "source": [
    "results = qapi.retrieve_job(job_id)\n",
    "\n",
    "results"
   ]
  },
  {
   "cell_type": "markdown",
   "metadata": {},
   "source": [
    "## TKET Compilation Passes in the H-Series Stack<a class=\"anchor\" id=\"tket-comp\"></a>\n",
    "\n",
    "Circuits submitted to Quantinuum H-Series quantum computers and emulators are run through TKET compilation passes for H-Series hardware. This enables circuits to be automatically optimized for H-Series systems and run more efficiently. \n",
    "\n",
    "More information on compilation passes applied can be found on the `pytket-quantinuum` documentation, specifically the [Default Compilation](https://cqcl.github.io/pytket-quantinuum/api/index.html#default-compilation) section. The default compilation setting is optimization level 2. \n",
    "\n",
    "If users desire to use a different optimization level, to turn all optimizations off, or to explore what optimization passes in TKET will do before submitting, information on how to do this is found in the *Quantinuum Application Programming Interface (API) Specification* as well as the examples below. In addition, an example using `pytket-quantinuum` is given in the notebook `Circuit Submissions via pytket.ipynb`.\n",
    "\n",
    "* [Update Optimization Level](#opt-level)\n",
    "* [Turn Off Optimizations](#opt-off)\n",
    "* [View Optimizations Before Submitting](#investigate-opt)"
   ]
  },
  {
   "cell_type": "markdown",
   "metadata": {},
   "source": [
    "### Update Optimization Level<a class=\"anchor\" id=\"opt-level\"></a>\n",
    "\n",
    "Compilation passes by TKET are automatically set to `pytket-quantinuum`'s `optimisation_level=2` as described here: [Default Compilation](https://cqcl.github.io/pytket-quantinuum/api/index.html#default-compilation). In some cases, the user may desire not to perform the full level of optimizations, which can be done using the `tket-opt-level` flag. This flag takes the values `null`, `0`, `1`, or `2`. The values `0`, `1`, or `2` correspond to the optimization levels described on the `pytket-quantinuum` link given above. The value `null` performs no TKET optimizations, but does perform basic single-qubit gate compressions. \n",
    "\n",
    "The example below sets the TKET optimization level to `1`. "
   ]
  },
  {
   "cell_type": "code",
   "execution_count": 18,
   "metadata": {},
   "outputs": [
    {
     "name": "stdout",
     "output_type": "stream",
     "text": [
      "submitted circuit example with optimization level 1 id=355cd8fe916546d9a7991390809c6caa, submit date=2023-07-21T22:59:32.830662\n"
     ]
    }
   ],
   "source": [
    "shots = 100\n",
    "\n",
    "job_id = qapi.submit_job(openqasm, \n",
    "                         shots=shots,\n",
    "                         machine=machine, \n",
    "                         name='circuit example with optimization level 1', \n",
    "                         options={'tket-opt-level': 1}) "
   ]
  },
  {
   "cell_type": "code",
   "execution_count": 19,
   "metadata": {},
   "outputs": [
    {
     "data": {
      "text/plain": [
       "{'job': '355cd8fe916546d9a7991390809c6caa',\n",
       " 'name': 'circuit example with optimization level 1',\n",
       " 'status': 'queued',\n",
       " 'cost': '5.66',\n",
       " 'submit-date': '2023-07-21T22:59:32.830662',\n",
       " 'machine': 'H1-2E',\n",
       " 'websocket': {'task_token': '355cd8fe916546d9a7991390809c6caa_b90e749a-7e92-40f7-b749-0eec61c6554d',\n",
       "  'executionArn': ''}}"
      ]
     },
     "execution_count": 19,
     "metadata": {},
     "output_type": "execute_result"
    }
   ],
   "source": [
    "status = qapi.retrieve_job_status(job_id)\n",
    "\n",
    "status"
   ]
  },
  {
   "cell_type": "code",
   "execution_count": 20,
   "metadata": {},
   "outputs": [
    {
     "data": {
      "text/plain": [
       "{'job': '355cd8fe916546d9a7991390809c6caa',\n",
       " 'name': 'circuit example with optimization level 1',\n",
       " 'status': 'completed',\n",
       " 'cost': '5.66',\n",
       " 'start-date': '2023-07-21T22:59:43.957318',\n",
       " 'end-date': '2023-07-21T22:59:44.444286',\n",
       " 'submit-date': '2023-07-21T22:59:32.830662',\n",
       " 'result-date': '2023-07-21T22:59:44.864955',\n",
       " 'machine': 'H1-2E',\n",
       " 'results': {'cr': ['11',\n",
       "   '00',\n",
       "   '00',\n",
       "   '11',\n",
       "   '11',\n",
       "   '00',\n",
       "   '11',\n",
       "   '11',\n",
       "   '00',\n",
       "   '11',\n",
       "   '11',\n",
       "   '11',\n",
       "   '00',\n",
       "   '11',\n",
       "   '00',\n",
       "   '00',\n",
       "   '00',\n",
       "   '11',\n",
       "   '00',\n",
       "   '00',\n",
       "   '11',\n",
       "   '11',\n",
       "   '11',\n",
       "   '11',\n",
       "   '00',\n",
       "   '00',\n",
       "   '00',\n",
       "   '11',\n",
       "   '11',\n",
       "   '00',\n",
       "   '00',\n",
       "   '00',\n",
       "   '00',\n",
       "   '11',\n",
       "   '00',\n",
       "   '11',\n",
       "   '00',\n",
       "   '11',\n",
       "   '00',\n",
       "   '11',\n",
       "   '10',\n",
       "   '11',\n",
       "   '11',\n",
       "   '00',\n",
       "   '11',\n",
       "   '11',\n",
       "   '00',\n",
       "   '00',\n",
       "   '11',\n",
       "   '00',\n",
       "   '00',\n",
       "   '11',\n",
       "   '11',\n",
       "   '00',\n",
       "   '00',\n",
       "   '00',\n",
       "   '00',\n",
       "   '00',\n",
       "   '00',\n",
       "   '00',\n",
       "   '00',\n",
       "   '00',\n",
       "   '00',\n",
       "   '11',\n",
       "   '00',\n",
       "   '11',\n",
       "   '00',\n",
       "   '11',\n",
       "   '11',\n",
       "   '11',\n",
       "   '00',\n",
       "   '11',\n",
       "   '01',\n",
       "   '00',\n",
       "   '11',\n",
       "   '00',\n",
       "   '00',\n",
       "   '11',\n",
       "   '11',\n",
       "   '11',\n",
       "   '00',\n",
       "   '00',\n",
       "   '11',\n",
       "   '11',\n",
       "   '11',\n",
       "   '11',\n",
       "   '00',\n",
       "   '11',\n",
       "   '00',\n",
       "   '00',\n",
       "   '11',\n",
       "   '11',\n",
       "   '00',\n",
       "   '00',\n",
       "   '11',\n",
       "   '11',\n",
       "   '00',\n",
       "   '00',\n",
       "   '11',\n",
       "   '00']}}"
      ]
     },
     "execution_count": 20,
     "metadata": {},
     "output_type": "execute_result"
    }
   ],
   "source": [
    "results = qapi.retrieve_job(job_id)\n",
    "\n",
    "results"
   ]
  },
  {
   "cell_type": "markdown",
   "metadata": {},
   "source": [
    "### Turn Off Optimizations<a class=\"anchor\" id=\"opt-off\"></a>\n",
    "\n",
    "Compilation passes by TKET are turned on automatically using the `no-opt` flag, with value set to `False`. To turn *off* all optimization passes performed by TKET or gate combinations performed by the H-Series compiler, simply set the `no-opt` flag to `True`, as demonstrated below."
   ]
  },
  {
   "cell_type": "code",
   "execution_count": 21,
   "metadata": {},
   "outputs": [
    {
     "name": "stdout",
     "output_type": "stream",
     "text": [
      "submitted circuit example with no optimization id=bed76f68aa1a4a7eaebcf818e6f5592e, submit date=2023-07-21T22:59:54.993464\n"
     ]
    }
   ],
   "source": [
    "shots = 100\n",
    "\n",
    "job_id = qapi.submit_job(openqasm, \n",
    "                         shots=shots,\n",
    "                         machine=machine, \n",
    "                         name='circuit example with no optimization', \n",
    "                         options={'no-opt': True}) "
   ]
  },
  {
   "cell_type": "code",
   "execution_count": 22,
   "metadata": {},
   "outputs": [
    {
     "data": {
      "text/plain": [
       "{'job': 'bed76f68aa1a4a7eaebcf818e6f5592e',\n",
       " 'name': 'circuit example with no optimization',\n",
       " 'status': 'completed',\n",
       " 'cost': '5.66',\n",
       " 'start-date': '2023-07-21T22:59:59.237634',\n",
       " 'end-date': '2023-07-21T22:59:59.737056',\n",
       " 'submit-date': '2023-07-21T22:59:54.993464',\n",
       " 'result-date': '2023-07-21T23:00:00.144155',\n",
       " 'machine': 'H1-2E',\n",
       " 'results': {'cr': ['00',\n",
       "   '00',\n",
       "   '11',\n",
       "   '00',\n",
       "   '00',\n",
       "   '00',\n",
       "   '00',\n",
       "   '11',\n",
       "   '00',\n",
       "   '00',\n",
       "   '11',\n",
       "   '11',\n",
       "   '00',\n",
       "   '00',\n",
       "   '11',\n",
       "   '00',\n",
       "   '11',\n",
       "   '00',\n",
       "   '00',\n",
       "   '00',\n",
       "   '11',\n",
       "   '00',\n",
       "   '00',\n",
       "   '00',\n",
       "   '00',\n",
       "   '00',\n",
       "   '00',\n",
       "   '00',\n",
       "   '00',\n",
       "   '00',\n",
       "   '00',\n",
       "   '11',\n",
       "   '00',\n",
       "   '00',\n",
       "   '11',\n",
       "   '11',\n",
       "   '00',\n",
       "   '00',\n",
       "   '11',\n",
       "   '11',\n",
       "   '00',\n",
       "   '11',\n",
       "   '11',\n",
       "   '11',\n",
       "   '00',\n",
       "   '00',\n",
       "   '00',\n",
       "   '11',\n",
       "   '00',\n",
       "   '00',\n",
       "   '11',\n",
       "   '11',\n",
       "   '11',\n",
       "   '11',\n",
       "   '00',\n",
       "   '00',\n",
       "   '11',\n",
       "   '11',\n",
       "   '00',\n",
       "   '00',\n",
       "   '11',\n",
       "   '00',\n",
       "   '00',\n",
       "   '00',\n",
       "   '11',\n",
       "   '00',\n",
       "   '11',\n",
       "   '11',\n",
       "   '00',\n",
       "   '11',\n",
       "   '11',\n",
       "   '00',\n",
       "   '00',\n",
       "   '00',\n",
       "   '11',\n",
       "   '11',\n",
       "   '00',\n",
       "   '00',\n",
       "   '11',\n",
       "   '11',\n",
       "   '00',\n",
       "   '00',\n",
       "   '11',\n",
       "   '11',\n",
       "   '11',\n",
       "   '11',\n",
       "   '00',\n",
       "   '11',\n",
       "   '00',\n",
       "   '00',\n",
       "   '11',\n",
       "   '00',\n",
       "   '00',\n",
       "   '00',\n",
       "   '00',\n",
       "   '11',\n",
       "   '11',\n",
       "   '11',\n",
       "   '11',\n",
       "   '00']}}"
      ]
     },
     "execution_count": 22,
     "metadata": {},
     "output_type": "execute_result"
    }
   ],
   "source": [
    "status = qapi.retrieve_job_status(job_id)\n",
    "\n",
    "status"
   ]
  },
  {
   "cell_type": "code",
   "execution_count": 23,
   "metadata": {},
   "outputs": [
    {
     "data": {
      "text/plain": [
       "{'job': 'bed76f68aa1a4a7eaebcf818e6f5592e',\n",
       " 'name': 'circuit example with no optimization',\n",
       " 'status': 'completed',\n",
       " 'cost': '5.66',\n",
       " 'start-date': '2023-07-21T22:59:59.237634',\n",
       " 'end-date': '2023-07-21T22:59:59.737056',\n",
       " 'submit-date': '2023-07-21T22:59:54.993464',\n",
       " 'result-date': '2023-07-21T23:00:00.144155',\n",
       " 'machine': 'H1-2E',\n",
       " 'results': {'cr': ['00',\n",
       "   '00',\n",
       "   '11',\n",
       "   '00',\n",
       "   '00',\n",
       "   '00',\n",
       "   '00',\n",
       "   '11',\n",
       "   '00',\n",
       "   '00',\n",
       "   '11',\n",
       "   '11',\n",
       "   '00',\n",
       "   '00',\n",
       "   '11',\n",
       "   '00',\n",
       "   '11',\n",
       "   '00',\n",
       "   '00',\n",
       "   '00',\n",
       "   '11',\n",
       "   '00',\n",
       "   '00',\n",
       "   '00',\n",
       "   '00',\n",
       "   '00',\n",
       "   '00',\n",
       "   '00',\n",
       "   '00',\n",
       "   '00',\n",
       "   '00',\n",
       "   '11',\n",
       "   '00',\n",
       "   '00',\n",
       "   '11',\n",
       "   '11',\n",
       "   '00',\n",
       "   '00',\n",
       "   '11',\n",
       "   '11',\n",
       "   '00',\n",
       "   '11',\n",
       "   '11',\n",
       "   '11',\n",
       "   '00',\n",
       "   '00',\n",
       "   '00',\n",
       "   '11',\n",
       "   '00',\n",
       "   '00',\n",
       "   '11',\n",
       "   '11',\n",
       "   '11',\n",
       "   '11',\n",
       "   '00',\n",
       "   '00',\n",
       "   '11',\n",
       "   '11',\n",
       "   '00',\n",
       "   '00',\n",
       "   '11',\n",
       "   '00',\n",
       "   '00',\n",
       "   '00',\n",
       "   '11',\n",
       "   '00',\n",
       "   '11',\n",
       "   '11',\n",
       "   '00',\n",
       "   '11',\n",
       "   '11',\n",
       "   '00',\n",
       "   '00',\n",
       "   '00',\n",
       "   '11',\n",
       "   '11',\n",
       "   '00',\n",
       "   '00',\n",
       "   '11',\n",
       "   '11',\n",
       "   '00',\n",
       "   '00',\n",
       "   '11',\n",
       "   '11',\n",
       "   '11',\n",
       "   '11',\n",
       "   '00',\n",
       "   '11',\n",
       "   '00',\n",
       "   '00',\n",
       "   '11',\n",
       "   '00',\n",
       "   '00',\n",
       "   '00',\n",
       "   '00',\n",
       "   '11',\n",
       "   '11',\n",
       "   '11',\n",
       "   '11',\n",
       "   '00']}}"
      ]
     },
     "execution_count": 23,
     "metadata": {},
     "output_type": "execute_result"
    }
   ],
   "source": [
    "results = qapi.retrieve_job(job_id)\n",
    "\n",
    "results"
   ]
  },
  {
   "cell_type": "markdown",
   "metadata": {},
   "source": [
    "### View Optimizations Before Submitting<a class=\"anchor\" id=\"investigate-opt\"></a>\n",
    "\n",
    "Users can find out what TKET optimizations for circuits they submit before running on Quantinuum systems. This can be done by using `pytket-quantinuum` and running the `get_compiled_circuit` function with the appropriate optimization level on a circuit. In this notebook, the API wrapper found in `api_wrappers.py` is used for submitting jobs to Quantinuum systems and no means to check the TKET-compiled circuit is provided directly. To check a circuit before running, it is recommended to use `pytket-quantinuum` as seen in the `Circuit Submissions via pytket.ipynb` notebook. "
   ]
  },
  {
   "cell_type": "markdown",
   "metadata": {},
   "source": [
    "## Recommended Workflow <a class=\"anchor\" id=\"recommended-workflow\"></a>\n",
    "\n",
    "Quantinuum provides device-specific syntax checkers and emulators in addition to quantum computing hardware. Quantum algorithm development takes time to create a quantum circuit, run on hardware, analyze results, and iterate. Within this loop it is common to go through multiple debugging cycles either due to code or circuit design. \n",
    "\n",
    "A recommended workflow for working with the Quantinuum hardware is the following:\n",
    "1. Syntax Checker\n",
    "2. Emulator\n",
    "3. Quantum Computer\n",
    "\n",
    "The first step will allow you to check whether or not your circuit will run on the quantum computer, whether there are any code mistakes. The second step will allow you to run on a device-specific emulator and analyze results. This will allow you to check the output to determine if it is what you expect. This will allow you to debug your circuit design. The Syntax Checkers and Emulators are available 24/7, allowing you to debug your code as needed befor submitting to a quantum computer."
   ]
  },
  {
   "cell_type": "markdown",
   "metadata": {},
   "source": [
    "### Syntax Check\n",
    "\n",
    "First, an example is illustrated using the syntax checker. The circuit below has been modified by forgetting a semicolon at the end of a line 6. "
   ]
  },
  {
   "cell_type": "code",
   "execution_count": 24,
   "metadata": {
    "scrolled": true
   },
   "outputs": [],
   "source": [
    "openqasm = \"\"\"\n",
    "// Header\n",
    "OPENQASM 2.0;\n",
    "include \"qelib1.inc\";\n",
    "\n",
    "// Gates\n",
    "qreg q[2]\n",
    "creg cr[2];\n",
    "\n",
    "// Measurement\n",
    "h q[0];\n",
    "CX q[0], q[1];\n",
    "\n",
    "measure q -> cr;\n",
    "\n",
    "\"\"\""
   ]
  },
  {
   "cell_type": "code",
   "execution_count": 25,
   "metadata": {},
   "outputs": [
    {
     "name": "stdout",
     "output_type": "stream",
     "text": [
      "submitted circuit test id=70317549e9924b96a57bc6c8ebafb446, submit date=2023-07-21T23:00:41.577156\n"
     ]
    }
   ],
   "source": [
    "machine = 'H1-2SC'\n",
    "\n",
    "qapi = QAPI()\n",
    "job_id = qapi.submit_job(openqasm,\n",
    "                         machine=machine, \n",
    "                         name='circuit test') \n",
    "results = qapi.retrieve_job(job_id)"
   ]
  },
  {
   "cell_type": "markdown",
   "metadata": {},
   "source": [
    "Examining the results of the job results, the `status` return is `failed` and the `error` object specifies type and location of the error."
   ]
  },
  {
   "cell_type": "code",
   "execution_count": 26,
   "metadata": {},
   "outputs": [
    {
     "data": {
      "text/plain": [
       "{'job': '70317549e9924b96a57bc6c8ebafb446',\n",
       " 'name': 'circuit test',\n",
       " 'status': 'failed',\n",
       " 'error': {'code': 1000,\n",
       "  'text': \"1000: Compile error: [line:8 column:1] Unexpected token 'creg'\"},\n",
       " 'cost': '0',\n",
       " 'start-date': '2023-07-21T23:00:41.651301',\n",
       " 'end-date': '2023-07-21T23:00:41.651354',\n",
       " 'submit-date': '2023-07-21T23:00:41.577156',\n",
       " 'machine': 'H1-2SC',\n",
       " 'websocket': {'task_token': '70317549e9924b96a57bc6c8ebafb446_a8c3ecb9-4880-4a47-b594-3db9e514cd40',\n",
       "  'executionArn': ''}}"
      ]
     },
     "execution_count": 26,
     "metadata": {},
     "output_type": "execute_result"
    }
   ],
   "source": [
    "results"
   ]
  },
  {
   "cell_type": "markdown",
   "metadata": {},
   "source": [
    "Fixing the error and adding back the semicolon, the circuit is re-run."
   ]
  },
  {
   "cell_type": "code",
   "execution_count": 27,
   "metadata": {
    "scrolled": true
   },
   "outputs": [],
   "source": [
    "openqasm = \"\"\"\n",
    "// Header\n",
    "OPENQASM 2.0;\n",
    "include \"qelib1.inc\";\n",
    "\n",
    "// Gates\n",
    "qreg q[2];\n",
    "creg cr[2];\n",
    "\n",
    "// Measurement\n",
    "h q[0];\n",
    "CX q[0], q[1];\n",
    "\n",
    "measure q -> cr;\n",
    "\n",
    "\"\"\""
   ]
  },
  {
   "cell_type": "code",
   "execution_count": 28,
   "metadata": {},
   "outputs": [
    {
     "name": "stdout",
     "output_type": "stream",
     "text": [
      "submitted circuit test id=b5cf904b57a94d3dbef736b56d899cd0, submit date=2023-07-21T23:00:52.034160\n"
     ]
    }
   ],
   "source": [
    "# Submit circuit to syntax checker\n",
    "job_id = qapi.submit_job(openqasm,\n",
    "                         machine=machine, \n",
    "                         name='circuit test') \n",
    "results = qapi.retrieve_job(job_id)"
   ]
  },
  {
   "cell_type": "markdown",
   "metadata": {},
   "source": [
    "Now the `status` returns `completed`. Notice that the cost in H-Series Quantum Credits (HQCs) is returned in the `cost` object. In addition, the `results` object returns a list of all `00` indicating the circuit compiles on the device."
   ]
  },
  {
   "cell_type": "code",
   "execution_count": 29,
   "metadata": {},
   "outputs": [
    {
     "data": {
      "text/plain": [
       "{'job': 'b5cf904b57a94d3dbef736b56d899cd0',\n",
       " 'name': 'circuit test',\n",
       " 'status': 'completed',\n",
       " 'cost': '5.66',\n",
       " 'start-date': '2023-07-21T23:00:52.138123',\n",
       " 'end-date': '2023-07-21T23:00:52.138289',\n",
       " 'submit-date': '2023-07-21T23:00:52.034160',\n",
       " 'result-date': '2023-07-21T23:00:52.244481',\n",
       " 'machine': 'H1-2SC',\n",
       " 'results': {'cr': ['00',\n",
       "   '00',\n",
       "   '00',\n",
       "   '00',\n",
       "   '00',\n",
       "   '00',\n",
       "   '00',\n",
       "   '00',\n",
       "   '00',\n",
       "   '00',\n",
       "   '00',\n",
       "   '00',\n",
       "   '00',\n",
       "   '00',\n",
       "   '00',\n",
       "   '00',\n",
       "   '00',\n",
       "   '00',\n",
       "   '00',\n",
       "   '00',\n",
       "   '00',\n",
       "   '00',\n",
       "   '00',\n",
       "   '00',\n",
       "   '00',\n",
       "   '00',\n",
       "   '00',\n",
       "   '00',\n",
       "   '00',\n",
       "   '00',\n",
       "   '00',\n",
       "   '00',\n",
       "   '00',\n",
       "   '00',\n",
       "   '00',\n",
       "   '00',\n",
       "   '00',\n",
       "   '00',\n",
       "   '00',\n",
       "   '00',\n",
       "   '00',\n",
       "   '00',\n",
       "   '00',\n",
       "   '00',\n",
       "   '00',\n",
       "   '00',\n",
       "   '00',\n",
       "   '00',\n",
       "   '00',\n",
       "   '00',\n",
       "   '00',\n",
       "   '00',\n",
       "   '00',\n",
       "   '00',\n",
       "   '00',\n",
       "   '00',\n",
       "   '00',\n",
       "   '00',\n",
       "   '00',\n",
       "   '00',\n",
       "   '00',\n",
       "   '00',\n",
       "   '00',\n",
       "   '00',\n",
       "   '00',\n",
       "   '00',\n",
       "   '00',\n",
       "   '00',\n",
       "   '00',\n",
       "   '00',\n",
       "   '00',\n",
       "   '00',\n",
       "   '00',\n",
       "   '00',\n",
       "   '00',\n",
       "   '00',\n",
       "   '00',\n",
       "   '00',\n",
       "   '00',\n",
       "   '00',\n",
       "   '00',\n",
       "   '00',\n",
       "   '00',\n",
       "   '00',\n",
       "   '00',\n",
       "   '00',\n",
       "   '00',\n",
       "   '00',\n",
       "   '00',\n",
       "   '00',\n",
       "   '00',\n",
       "   '00',\n",
       "   '00',\n",
       "   '00',\n",
       "   '00',\n",
       "   '00',\n",
       "   '00',\n",
       "   '00',\n",
       "   '00',\n",
       "   '00']}}"
      ]
     },
     "execution_count": 29,
     "metadata": {},
     "output_type": "execute_result"
    }
   ],
   "source": [
    "results"
   ]
  },
  {
   "cell_type": "markdown",
   "metadata": {},
   "source": [
    "### Emulator\n",
    "\n",
    "Now that the circuit syntax will compile on the device, the circuit can be run on the emulator to check circuit design before running on hardware."
   ]
  },
  {
   "cell_type": "code",
   "execution_count": 30,
   "metadata": {},
   "outputs": [
    {
     "name": "stdout",
     "output_type": "stream",
     "text": [
      "submitted circuit emulation id=0613ecb437c245509ff23c6428008018, submit date=2023-07-21T23:00:57.016946\n"
     ]
    }
   ],
   "source": [
    "machine = 'H1-2E'\n",
    "\n",
    "shots = 100\n",
    "\n",
    "# Submit circuit to the emulator\n",
    "qapi = QAPI(machine=machine)\n",
    "job_id = qapi.submit_job(openqasm,\n",
    "                         shots=shots,\n",
    "                         machine=machine, \n",
    "                         name='circuit emulation')"
   ]
  },
  {
   "cell_type": "code",
   "execution_count": 31,
   "metadata": {},
   "outputs": [
    {
     "data": {
      "text/plain": [
       "{'job': '0613ecb437c245509ff23c6428008018',\n",
       " 'name': 'circuit emulation',\n",
       " 'status': 'queued',\n",
       " 'cost': '5.66',\n",
       " 'submit-date': '2023-07-21T23:00:57.016946',\n",
       " 'machine': 'H1-2E',\n",
       " 'websocket': {'task_token': '0613ecb437c245509ff23c6428008018_1ed41607-bcd8-4d4e-ab67-bf373fa257fc',\n",
       "  'executionArn': ''}}"
      ]
     },
     "execution_count": 31,
     "metadata": {},
     "output_type": "execute_result"
    }
   ],
   "source": [
    "status = qapi.retrieve_job_status(job_id)\n",
    "\n",
    "status"
   ]
  },
  {
   "cell_type": "markdown",
   "metadata": {},
   "source": [
    "Results can be analyzed in the `results` object. There are multiple ways of transforming python lists to other formats for easy analysis, including via pandas or other libraries."
   ]
  },
  {
   "cell_type": "code",
   "execution_count": 32,
   "metadata": {},
   "outputs": [
    {
     "data": {
      "text/plain": [
       "{'cr': ['00',\n",
       "  '11',\n",
       "  '11',\n",
       "  '11',\n",
       "  '00',\n",
       "  '11',\n",
       "  '00',\n",
       "  '11',\n",
       "  '00',\n",
       "  '11',\n",
       "  '11',\n",
       "  '11',\n",
       "  '00',\n",
       "  '00',\n",
       "  '00',\n",
       "  '00',\n",
       "  '00',\n",
       "  '00',\n",
       "  '01',\n",
       "  '00',\n",
       "  '00',\n",
       "  '10',\n",
       "  '00',\n",
       "  '00',\n",
       "  '00',\n",
       "  '00',\n",
       "  '11',\n",
       "  '11',\n",
       "  '11',\n",
       "  '11',\n",
       "  '00',\n",
       "  '11',\n",
       "  '00',\n",
       "  '11',\n",
       "  '11',\n",
       "  '11',\n",
       "  '00',\n",
       "  '00',\n",
       "  '11',\n",
       "  '11',\n",
       "  '00',\n",
       "  '11',\n",
       "  '00',\n",
       "  '00',\n",
       "  '00',\n",
       "  '11',\n",
       "  '01',\n",
       "  '00',\n",
       "  '00',\n",
       "  '11',\n",
       "  '00',\n",
       "  '00',\n",
       "  '00',\n",
       "  '00',\n",
       "  '00',\n",
       "  '00',\n",
       "  '11',\n",
       "  '00',\n",
       "  '11',\n",
       "  '11',\n",
       "  '11',\n",
       "  '00',\n",
       "  '11',\n",
       "  '11',\n",
       "  '00',\n",
       "  '00',\n",
       "  '11',\n",
       "  '11',\n",
       "  '11',\n",
       "  '00',\n",
       "  '11',\n",
       "  '00',\n",
       "  '00',\n",
       "  '11',\n",
       "  '00',\n",
       "  '00',\n",
       "  '11',\n",
       "  '00',\n",
       "  '10',\n",
       "  '11',\n",
       "  '00',\n",
       "  '11',\n",
       "  '11',\n",
       "  '00',\n",
       "  '11',\n",
       "  '11',\n",
       "  '00',\n",
       "  '00',\n",
       "  '11',\n",
       "  '00',\n",
       "  '00',\n",
       "  '11',\n",
       "  '11',\n",
       "  '11',\n",
       "  '11',\n",
       "  '11',\n",
       "  '00',\n",
       "  '00',\n",
       "  '00',\n",
       "  '00']}"
      ]
     },
     "execution_count": 32,
     "metadata": {},
     "output_type": "execute_result"
    }
   ],
   "source": [
    "results = qapi.retrieve_job(job_id)\n",
    "\n",
    "results['results']"
   ]
  },
  {
   "cell_type": "markdown",
   "metadata": {},
   "source": [
    "### Quantum Computer\n",
    "\n",
    "Now that the circuit has been debugged, you are ready to run on quantum hardware!"
   ]
  },
  {
   "cell_type": "code",
   "execution_count": 33,
   "metadata": {},
   "outputs": [
    {
     "name": "stdout",
     "output_type": "stream",
     "text": [
      "submitted circuit id=f87a1524be714bfc828700a96b9b9ab9, submit date=2023-07-21T23:01:14.511276\n"
     ]
    }
   ],
   "source": [
    "machine = 'H1-2E'\n",
    "\n",
    "shots = 100\n",
    "\n",
    "# Submit circuit to quantum hardware\n",
    "qapi = QAPI(machine=machine)\n",
    "job_id = qapi.submit_job(openqasm,\n",
    "                         shots=shots,\n",
    "                         machine=machine,\n",
    "                         name='circuit')"
   ]
  },
  {
   "cell_type": "markdown",
   "metadata": {},
   "source": [
    "If your job is long-running or there are many jobs in the queue, the job status can be checked at any time below."
   ]
  },
  {
   "cell_type": "code",
   "execution_count": 34,
   "metadata": {},
   "outputs": [
    {
     "data": {
      "text/plain": [
       "{'job': 'f87a1524be714bfc828700a96b9b9ab9',\n",
       " 'name': 'circuit',\n",
       " 'status': 'queued',\n",
       " 'cost': '5.66',\n",
       " 'submit-date': '2023-07-21T23:01:14.511276',\n",
       " 'machine': 'H1-2E',\n",
       " 'websocket': {'task_token': 'f87a1524be714bfc828700a96b9b9ab9_f37bac01-dcd6-4e97-9ec8-239f909a510a',\n",
       "  'executionArn': ''}}"
      ]
     },
     "execution_count": 34,
     "metadata": {},
     "output_type": "execute_result"
    }
   ],
   "source": [
    "qapi.retrieve_job_status(job_id)"
   ]
  },
  {
   "cell_type": "markdown",
   "metadata": {},
   "source": [
    "Once the job is completed, retrieve and save it."
   ]
  },
  {
   "cell_type": "code",
   "execution_count": 35,
   "metadata": {},
   "outputs": [],
   "source": [
    "results = qapi.retrieve_job(job_id)"
   ]
  },
  {
   "cell_type": "code",
   "execution_count": 36,
   "metadata": {},
   "outputs": [],
   "source": [
    "with open(f'results_{results[\"name\"]}.json', 'w') as f:\n",
    "    json.dump(results, f)"
   ]
  },
  {
   "cell_type": "code",
   "execution_count": 37,
   "metadata": {},
   "outputs": [
    {
     "data": {
      "text/plain": [
       "{'job': 'f87a1524be714bfc828700a96b9b9ab9',\n",
       " 'name': 'circuit',\n",
       " 'status': 'completed',\n",
       " 'cost': '5.66',\n",
       " 'start-date': '2023-07-21T23:01:19.968359',\n",
       " 'end-date': '2023-07-21T23:01:20.464149',\n",
       " 'submit-date': '2023-07-21T23:01:14.511276',\n",
       " 'result-date': '2023-07-21T23:01:20.936814',\n",
       " 'machine': 'H1-2E',\n",
       " 'results': {'cr': ['00',\n",
       "   '00',\n",
       "   '11',\n",
       "   '11',\n",
       "   '11',\n",
       "   '11',\n",
       "   '11',\n",
       "   '00',\n",
       "   '11',\n",
       "   '00',\n",
       "   '00',\n",
       "   '00',\n",
       "   '11',\n",
       "   '11',\n",
       "   '00',\n",
       "   '00',\n",
       "   '00',\n",
       "   '11',\n",
       "   '11',\n",
       "   '00',\n",
       "   '11',\n",
       "   '00',\n",
       "   '11',\n",
       "   '11',\n",
       "   '11',\n",
       "   '00',\n",
       "   '11',\n",
       "   '00',\n",
       "   '11',\n",
       "   '00',\n",
       "   '11',\n",
       "   '11',\n",
       "   '00',\n",
       "   '00',\n",
       "   '00',\n",
       "   '00',\n",
       "   '11',\n",
       "   '00',\n",
       "   '11',\n",
       "   '11',\n",
       "   '00',\n",
       "   '10',\n",
       "   '00',\n",
       "   '11',\n",
       "   '11',\n",
       "   '00',\n",
       "   '00',\n",
       "   '00',\n",
       "   '00',\n",
       "   '11',\n",
       "   '00',\n",
       "   '11',\n",
       "   '11',\n",
       "   '11',\n",
       "   '11',\n",
       "   '11',\n",
       "   '00',\n",
       "   '00',\n",
       "   '00',\n",
       "   '11',\n",
       "   '00',\n",
       "   '11',\n",
       "   '00',\n",
       "   '00',\n",
       "   '00',\n",
       "   '11',\n",
       "   '11',\n",
       "   '11',\n",
       "   '11',\n",
       "   '11',\n",
       "   '11',\n",
       "   '00',\n",
       "   '11',\n",
       "   '00',\n",
       "   '00',\n",
       "   '00',\n",
       "   '11',\n",
       "   '11',\n",
       "   '00',\n",
       "   '11',\n",
       "   '00',\n",
       "   '00',\n",
       "   '11',\n",
       "   '00',\n",
       "   '00',\n",
       "   '11',\n",
       "   '11',\n",
       "   '11',\n",
       "   '00',\n",
       "   '11',\n",
       "   '00',\n",
       "   '11',\n",
       "   '00',\n",
       "   '11',\n",
       "   '00',\n",
       "   '00',\n",
       "   '11',\n",
       "   '11',\n",
       "   '11',\n",
       "   '00']}}"
      ]
     },
     "execution_count": 37,
     "metadata": {},
     "output_type": "execute_result"
    }
   ],
   "source": [
    "results"
   ]
  }
 ],
 "metadata": {
  "kernelspec": {
   "display_name": "qtuum",
   "language": "python",
   "name": "qtuum"
  },
  "language_info": {
   "codemirror_mode": {
    "name": "ipython",
    "version": 3
   },
   "file_extension": ".py",
   "mimetype": "text/x-python",
   "name": "python",
   "nbconvert_exporter": "python",
   "pygments_lexer": "ipython3",
   "version": "3.11.4"
  }
 },
 "nbformat": 4,
 "nbformat_minor": 4
}
