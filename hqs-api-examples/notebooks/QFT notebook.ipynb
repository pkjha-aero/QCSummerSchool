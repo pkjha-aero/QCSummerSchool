{
 "cells": [
  {
   "cell_type": "code",
   "execution_count": 1,
   "id": "ce2f9c9e",
   "metadata": {},
   "outputs": [
    {
     "name": "stdin",
     "output_type": "stream",
     "text": [
      "Enter your Quantinuum email:  jha3@llnl.gov\n",
      "Enter your Quantinuum password:  ········\n"
     ]
    }
   ],
   "source": [
    "from pytket.extensions.quantinuum import QuantinuumBackend\n",
    "\n",
    "machine = 'H1-2E'\n",
    "backend = QuantinuumBackend(device_name=machine)\n",
    "backend.login()"
   ]
  },
  {
   "cell_type": "code",
   "execution_count": 2,
   "id": "1cf04516",
   "metadata": {},
   "outputs": [],
   "source": [
    "from qtuum.api_wrappers import QuantinuumAPI as QAPI\n",
    "\n",
    "qapi = QAPI()"
   ]
  },
  {
   "cell_type": "code",
   "execution_count": 3,
   "id": "1cd62d33",
   "metadata": {},
   "outputs": [
    {
     "data": {
      "text/html": [
       "\n",
       "\n",
       "\n",
       "\n",
       "\n",
       "\n",
       "<div style=\"resize: vertical; overflow: auto; height: 400px; display: block\">\n",
       "    <iframe srcdoc=\"\n",
       "&lt;!DOCTYPE html&gt;\n",
       "&lt;html lang=&#34;en&#34;&gt;\n",
       "&lt;head&gt;\n",
       "    &lt;meta charset=&#34;UTF-8&#34;&gt;\n",
       "    &lt;!-- Download Vue 3--&gt;\n",
       "&lt;script type=&#34;application/javascript&#34; src=&#34;https://cdn.jsdelivr.net/npm/vue@3&#34;&gt;&lt;/script&gt;\n",
       "&lt;!-- Download Circuit Renderer with styles --&gt;\n",
       "&lt;script type=&#34;application/javascript&#34; src=&#34;https://unpkg.com/pytket-circuit-renderer@0.6/dist/pytket-circuit-renderer.umd.js&#34;&gt;&lt;/script&gt;\n",
       "&lt;link rel=&#34;stylesheet&#34; href=&#34;https://unpkg.com/pytket-circuit-renderer@0.6/dist/pytket-circuit-renderer.css&#34;&gt;\n",
       "&lt;/head&gt;\n",
       "&lt;body&gt;\n",
       "\n",
       "\n",
       "\n",
       "    &lt;div id=&#34;circuit-display-vue-container-1645478b-20c0-4a22-93b4-1f923ae82a19&#34; class=&#34;pytket-circuit-display-container&#34;&gt;\n",
       "        &lt;div style=&#34;display: none&#34;&gt;\n",
       "            &lt;div id=&#34;circuit-json-to-display&#34;&gt;{&#34;bits&#34;: [[&#34;c&#34;, [0]], [&#34;c&#34;, [1]], [&#34;c&#34;, [2]]], &#34;commands&#34;: [{&#34;args&#34;: [[&#34;q&#34;, [2]]], &#34;op&#34;: {&#34;type&#34;: &#34;H&#34;}}, {&#34;args&#34;: [[&#34;q&#34;, [1]], [&#34;q&#34;, [2]]], &#34;op&#34;: {&#34;params&#34;: [&#34;1.5707963267949&#34;], &#34;type&#34;: &#34;CU1&#34;}}, {&#34;args&#34;: [[&#34;q&#34;, [0]], [&#34;q&#34;, [2]]], &#34;op&#34;: {&#34;params&#34;: [&#34;0.785398163397448&#34;], &#34;type&#34;: &#34;CU1&#34;}}, {&#34;args&#34;: [[&#34;q&#34;, [1]]], &#34;op&#34;: {&#34;type&#34;: &#34;H&#34;}}, {&#34;args&#34;: [[&#34;q&#34;, [0]], [&#34;q&#34;, [1]]], &#34;op&#34;: {&#34;params&#34;: [&#34;1.5707963267949&#34;], &#34;type&#34;: &#34;CU1&#34;}}, {&#34;args&#34;: [[&#34;q&#34;, [1]], [&#34;c&#34;, [1]]], &#34;op&#34;: {&#34;type&#34;: &#34;Measure&#34;}}, {&#34;args&#34;: [[&#34;q&#34;, [0]]], &#34;op&#34;: {&#34;type&#34;: &#34;H&#34;}}, {&#34;args&#34;: [[&#34;q&#34;, [0]], [&#34;q&#34;, [2]]], &#34;op&#34;: {&#34;type&#34;: &#34;SWAP&#34;}}, {&#34;args&#34;: [[&#34;q&#34;, [0]], [&#34;c&#34;, [0]]], &#34;op&#34;: {&#34;type&#34;: &#34;Measure&#34;}}, {&#34;args&#34;: [[&#34;q&#34;, [2]], [&#34;c&#34;, [2]]], &#34;op&#34;: {&#34;type&#34;: &#34;Measure&#34;}}], &#34;created_qubits&#34;: [], &#34;discarded_qubits&#34;: [], &#34;implicit_permutation&#34;: [[[&#34;q&#34;, [0]], [&#34;q&#34;, [0]]], [[&#34;q&#34;, [1]], [&#34;q&#34;, [1]]], [[&#34;q&#34;, [2]], [&#34;q&#34;, [2]]]], &#34;name&#34;: &#34;QFT notebook&#34;, &#34;phase&#34;: &#34;0.0&#34;, &#34;qubits&#34;: [[&#34;q&#34;, [0]], [&#34;q&#34;, [1]], [&#34;q&#34;, [2]]]}&lt;/div&gt;\n",
       "        &lt;/div&gt;\n",
       "        &lt;circuit-display-container\n",
       "                :circuit-element-str=&#34;&#39;#circuit-json-to-display&#39;&#34;\n",
       "                :init-render-options=&#34;initRenderOptions&#34;\n",
       "        &gt;&lt;/circuit-display-container&gt;\n",
       "    &lt;/div&gt;\n",
       "    &lt;script type=&#34;application/javascript&#34;&gt;\n",
       "      const circuitRendererUid = &#34;1645478b-20c0-4a22-93b4-1f923ae82a19&#34;;\n",
       "      const displayOptions = JSON.parse(&#39;{}&#39;);\n",
       "\n",
       "      // Script to initialise the circuit renderer app\n",
       "\n",
       "const { createApp } = Vue;\n",
       "const circuitDisplayContainer = window[&#34;pytket-circuit-renderer&#34;].default;\n",
       "// Init variables to be shared between circuit display instances\n",
       "if (typeof window.pytketCircuitDisplays === &#34;undefined&#34;) {\n",
       "    window.pytketCircuitDisplays = {};\n",
       "}\n",
       "// Create the root Vue component\n",
       "const app = createApp({\n",
       "    delimiters: [&#39;[[#&#39;, &#39;#]]&#39;],\n",
       "    components: { circuitDisplayContainer },\n",
       "    data () {\n",
       "      return {\n",
       "        initRenderOptions: displayOptions,\n",
       "      }\n",
       "    }\n",
       "})\n",
       "app.config.unwrapInjectedRef = true;\n",
       "app.mount(&#34;#circuit-display-vue-container-&#34;+circuitRendererUid);\n",
       "window.pytketCircuitDisplays[circuitRendererUid] = app;\n",
       "    &lt;/script&gt;\n",
       "\n",
       "\n",
       "\n",
       "&lt;/body&gt;\n",
       "&lt;/html&gt;\n",
       "\"\n",
       "            width=\"100%\" height=\"100%\"\n",
       "            style=\"border: none; outline: none; overflow: auto\"></iframe>\n",
       "</div>\n",
       "\n"
      ],
      "text/plain": [
       "<IPython.core.display.HTML object>"
      ]
     },
     "metadata": {},
     "output_type": "display_data"
    }
   ],
   "source": [
    "from pytket.circuit import Circuit, fresh_symbol\n",
    "from pytket.circuit.display import render_circuit_jupyter\n",
    "import numpy as np\n",
    "\n",
    "# The superposition gate\n",
    "circuit = Circuit(3, name=\"QFT notebook\")\n",
    "\n",
    "circuit.H(2)\n",
    "circuit.CU1(np.pi/2, 1, 2)\n",
    "circuit.CU1(np.pi/4, 0, 2)\n",
    "circuit.H(1)\n",
    "circuit.CU1(np.pi/2, 0, 1) # CROT from qubit 0 to qubit 1\n",
    "circuit.H(0)\n",
    "circuit.SWAP(0,2)\n",
    "circuit.measure_all()\n",
    "render_circuit_jupyter(circuit)\n",
    "\n"
   ]
  },
  {
   "cell_type": "code",
   "execution_count": 4,
   "id": "d491c61c",
   "metadata": {},
   "outputs": [],
   "source": [
    "compiled_circuit = backend.get_compiled_circuit(circuit, optimisation_level=2)"
   ]
  },
  {
   "cell_type": "code",
   "execution_count": 5,
   "id": "d64a9124",
   "metadata": {},
   "outputs": [
    {
     "data": {
      "text/html": [
       "\n",
       "\n",
       "\n",
       "\n",
       "\n",
       "\n",
       "<div style=\"resize: vertical; overflow: auto; height: 400px; display: block\">\n",
       "    <iframe srcdoc=\"\n",
       "&lt;!DOCTYPE html&gt;\n",
       "&lt;html lang=&#34;en&#34;&gt;\n",
       "&lt;head&gt;\n",
       "    &lt;meta charset=&#34;UTF-8&#34;&gt;\n",
       "    &lt;!-- Download Vue 3--&gt;\n",
       "&lt;script type=&#34;application/javascript&#34; src=&#34;https://cdn.jsdelivr.net/npm/vue@3&#34;&gt;&lt;/script&gt;\n",
       "&lt;!-- Download Circuit Renderer with styles --&gt;\n",
       "&lt;script type=&#34;application/javascript&#34; src=&#34;https://unpkg.com/pytket-circuit-renderer@0.6/dist/pytket-circuit-renderer.umd.js&#34;&gt;&lt;/script&gt;\n",
       "&lt;link rel=&#34;stylesheet&#34; href=&#34;https://unpkg.com/pytket-circuit-renderer@0.6/dist/pytket-circuit-renderer.css&#34;&gt;\n",
       "&lt;/head&gt;\n",
       "&lt;body&gt;\n",
       "\n",
       "\n",
       "\n",
       "    &lt;div id=&#34;circuit-display-vue-container-97cdfbe6-5bc0-46b1-9854-0022eb769dc1&#34; class=&#34;pytket-circuit-display-container&#34;&gt;\n",
       "        &lt;div style=&#34;display: none&#34;&gt;\n",
       "            &lt;div id=&#34;circuit-json-to-display&#34;&gt;{&#34;bits&#34;: [[&#34;c&#34;, [0]], [&#34;c&#34;, [1]], [&#34;c&#34;, [2]]], &#34;commands&#34;: [{&#34;args&#34;: [[&#34;q&#34;, [0]]], &#34;op&#34;: {&#34;params&#34;: [&#34;1.0&#34;, &#34;0.0&#34;], &#34;type&#34;: &#34;PhasedX&#34;}}, {&#34;args&#34;: [[&#34;q&#34;, [2]]], &#34;op&#34;: {&#34;params&#34;: [&#34;0.5&#34;, &#34;-0.5&#34;], &#34;type&#34;: &#34;PhasedX&#34;}}, {&#34;args&#34;: [[&#34;q&#34;, [1]], [&#34;q&#34;, [2]]], &#34;op&#34;: {&#34;params&#34;: [&#34;0.214601836602552&#34;], &#34;type&#34;: &#34;ZZPhase&#34;}}, {&#34;args&#34;: [[&#34;q&#34;, [0]], [&#34;q&#34;, [2]]], &#34;op&#34;: {&#34;params&#34;: [&#34;0.392699081698724&#34;], &#34;type&#34;: &#34;ZZPhase&#34;}}, {&#34;args&#34;: [[&#34;q&#34;, [1]]], &#34;op&#34;: {&#34;params&#34;: [&#34;1/2&#34;, &#34;-0.285398163397448&#34;], &#34;type&#34;: &#34;PhasedX&#34;}}, {&#34;args&#34;: [[&#34;q&#34;, [2]], [&#34;c&#34;, [0]]], &#34;op&#34;: {&#34;type&#34;: &#34;Measure&#34;}}, {&#34;args&#34;: [[&#34;q&#34;, [0]]], &#34;op&#34;: {&#34;params&#34;: [&#34;1&#34;, &#34;-4.17809724509617&#34;], &#34;type&#34;: &#34;PhasedX&#34;}}, {&#34;args&#34;: [[&#34;q&#34;, [0]], [&#34;q&#34;, [1]]], &#34;op&#34;: {&#34;params&#34;: [&#34;0.214601836602552&#34;], &#34;type&#34;: &#34;ZZPhase&#34;}}, {&#34;args&#34;: [[&#34;q&#34;, [1]], [&#34;c&#34;, [1]]], &#34;op&#34;: {&#34;type&#34;: &#34;Measure&#34;}}, {&#34;args&#34;: [[&#34;q&#34;, [0]]], &#34;op&#34;: {&#34;params&#34;: [&#34;1/2&#34;, &#34;-4.67809724509617&#34;], &#34;type&#34;: &#34;PhasedX&#34;}}, {&#34;args&#34;: [[&#34;q&#34;, [0]], [&#34;c&#34;, [2]]], &#34;op&#34;: {&#34;type&#34;: &#34;Measure&#34;}}], &#34;created_qubits&#34;: [[&#34;q&#34;, [0]], [&#34;q&#34;, [1]], [&#34;q&#34;, [2]]], &#34;discarded_qubits&#34;: [], &#34;implicit_permutation&#34;: [[[&#34;q&#34;, [0]], [&#34;q&#34;, [2]]], [[&#34;q&#34;, [1]], [&#34;q&#34;, [1]]], [[&#34;q&#34;, [2]], [&#34;q&#34;, [0]]]], &#34;name&#34;: &#34;QFT notebook&#34;, &#34;phase&#34;: &#34;0.981747704246814&#34;, &#34;qubits&#34;: [[&#34;q&#34;, [0]], [&#34;q&#34;, [1]], [&#34;q&#34;, [2]]]}&lt;/div&gt;\n",
       "        &lt;/div&gt;\n",
       "        &lt;circuit-display-container\n",
       "                :circuit-element-str=&#34;&#39;#circuit-json-to-display&#39;&#34;\n",
       "                :init-render-options=&#34;initRenderOptions&#34;\n",
       "        &gt;&lt;/circuit-display-container&gt;\n",
       "    &lt;/div&gt;\n",
       "    &lt;script type=&#34;application/javascript&#34;&gt;\n",
       "      const circuitRendererUid = &#34;97cdfbe6-5bc0-46b1-9854-0022eb769dc1&#34;;\n",
       "      const displayOptions = JSON.parse(&#39;{}&#39;);\n",
       "\n",
       "      // Script to initialise the circuit renderer app\n",
       "\n",
       "const { createApp } = Vue;\n",
       "const circuitDisplayContainer = window[&#34;pytket-circuit-renderer&#34;].default;\n",
       "// Init variables to be shared between circuit display instances\n",
       "if (typeof window.pytketCircuitDisplays === &#34;undefined&#34;) {\n",
       "    window.pytketCircuitDisplays = {};\n",
       "}\n",
       "// Create the root Vue component\n",
       "const app = createApp({\n",
       "    delimiters: [&#39;[[#&#39;, &#39;#]]&#39;],\n",
       "    components: { circuitDisplayContainer },\n",
       "    data () {\n",
       "      return {\n",
       "        initRenderOptions: displayOptions,\n",
       "      }\n",
       "    }\n",
       "})\n",
       "app.config.unwrapInjectedRef = true;\n",
       "app.mount(&#34;#circuit-display-vue-container-&#34;+circuitRendererUid);\n",
       "window.pytketCircuitDisplays[circuitRendererUid] = app;\n",
       "    &lt;/script&gt;\n",
       "\n",
       "\n",
       "\n",
       "&lt;/body&gt;\n",
       "&lt;/html&gt;\n",
       "\"\n",
       "            width=\"100%\" height=\"100%\"\n",
       "            style=\"border: none; outline: none; overflow: auto\"></iframe>\n",
       "</div>\n",
       "\n"
      ],
      "text/plain": [
       "<IPython.core.display.HTML object>"
      ]
     },
     "metadata": {},
     "output_type": "display_data"
    }
   ],
   "source": [
    "render_circuit_jupyter(compiled_circuit)"
   ]
  },
  {
   "cell_type": "code",
   "execution_count": 6,
   "id": "f0cf082a",
   "metadata": {},
   "outputs": [
    {
     "data": {
      "text/plain": [
       "6.664"
      ]
     },
     "execution_count": 6,
     "metadata": {},
     "output_type": "execute_result"
    }
   ],
   "source": [
    "n_shots = 128\n",
    "backend.cost(compiled_circuit, n_shots=n_shots, syntax_checker='H1-1SC')"
   ]
  },
  {
   "cell_type": "code",
   "execution_count": 7,
   "id": "00060178",
   "metadata": {},
   "outputs": [
    {
     "name": "stdout",
     "output_type": "stream",
     "text": [
      "CircuitStatus(status=<StatusEnum.QUEUED: 'Circuit is queued.'>, message='{\"name\": \"QFT notebook\", \"submit-date\": \"2023-07-20T21:10:49.566704\", \"result-date\": null, \"queue-position\": null, \"cost\": null, \"error\": null}', error_detail=None, completed_time=None, queued_time=None, submitted_time=None, running_time=None, cancelled_time=None, error_time=None, queue_position=None)\n"
     ]
    }
   ],
   "source": [
    "handle = backend.process_circuit(compiled_circuit, n_shots=n_shots)\n",
    "status = backend.circuit_status(handle)\n",
    "print(status)"
   ]
  },
  {
   "cell_type": "code",
   "execution_count": 8,
   "id": "cf27927c",
   "metadata": {},
   "outputs": [
    {
     "data": {
      "text/plain": [
       "BackendResult(q_bits={},c_bits={c[2]: 0, c[1]: 1, c[0]: 2},counts=None,shots=[[  0]\n",
       " [160]\n",
       " [ 64]\n",
       " [192]\n",
       " [128]\n",
       " [160]\n",
       " [192]\n",
       " [192]\n",
       " [ 64]\n",
       " [192]\n",
       " [128]\n",
       " [192]\n",
       " [160]\n",
       " [ 32]\n",
       " [192]\n",
       " [  0]\n",
       " [192]\n",
       " [224]\n",
       " [128]\n",
       " [128]\n",
       " [ 32]\n",
       " [160]\n",
       " [224]\n",
       " [224]\n",
       " [192]\n",
       " [192]\n",
       " [ 96]\n",
       " [224]\n",
       " [160]\n",
       " [  0]\n",
       " [  0]\n",
       " [192]\n",
       " [ 32]\n",
       " [ 64]\n",
       " [ 64]\n",
       " [224]\n",
       " [160]\n",
       " [  0]\n",
       " [160]\n",
       " [ 64]\n",
       " [192]\n",
       " [224]\n",
       " [192]\n",
       " [160]\n",
       " [ 64]\n",
       " [ 32]\n",
       " [ 64]\n",
       " [ 96]\n",
       " [  0]\n",
       " [ 96]\n",
       " [192]\n",
       " [ 64]\n",
       " [ 96]\n",
       " [ 96]\n",
       " [ 32]\n",
       " [ 32]\n",
       " [ 32]\n",
       " [192]\n",
       " [ 64]\n",
       " [ 96]\n",
       " [ 32]\n",
       " [224]\n",
       " [224]\n",
       " [160]\n",
       " [160]\n",
       " [ 96]\n",
       " [  0]\n",
       " [ 96]\n",
       " [  0]\n",
       " [ 64]\n",
       " [ 32]\n",
       " [224]\n",
       " [128]\n",
       " [192]\n",
       " [ 32]\n",
       " [192]\n",
       " [ 32]\n",
       " [ 64]\n",
       " [ 96]\n",
       " [160]\n",
       " [160]\n",
       " [ 96]\n",
       " [128]\n",
       " [ 96]\n",
       " [  0]\n",
       " [ 96]\n",
       " [ 32]\n",
       " [128]\n",
       " [192]\n",
       " [192]\n",
       " [192]\n",
       " [ 96]\n",
       " [  0]\n",
       " [224]\n",
       " [128]\n",
       " [  0]\n",
       " [160]\n",
       " [ 96]\n",
       " [224]\n",
       " [128]\n",
       " [160]\n",
       " [128]\n",
       " [ 32]\n",
       " [ 64]\n",
       " [224]\n",
       " [128]\n",
       " [128]\n",
       " [ 96]\n",
       " [192]\n",
       " [ 64]\n",
       " [192]\n",
       " [ 32]\n",
       " [192]\n",
       " [224]\n",
       " [ 64]\n",
       " [160]\n",
       " [ 96]\n",
       " [224]\n",
       " [192]\n",
       " [160]\n",
       " [192]\n",
       " [ 96]\n",
       " [192]\n",
       " [  0]\n",
       " [ 64]\n",
       " [128]\n",
       " [128]\n",
       " [160]],state=None,unitary=None,density_matrix=None)"
      ]
     },
     "execution_count": 8,
     "metadata": {},
     "output_type": "execute_result"
    }
   ],
   "source": [
    "result = backend.get_result(handle)\n",
    "\n",
    "result"
   ]
  },
  {
   "cell_type": "code",
   "execution_count": 9,
   "id": "3da66835",
   "metadata": {},
   "outputs": [
    {
     "name": "stdout",
     "output_type": "stream",
     "text": [
      "{(0, 0, 0): 0.09375, (0, 0, 1): 0.109375, (0, 1, 0): 0.1171875, (0, 1, 1): 0.1953125, (1, 0, 0): 0.109375, (1, 0, 1): 0.1328125, (1, 1, 0): 0.1328125, (1, 1, 1): 0.109375}\n"
     ]
    }
   ],
   "source": [
    "result = backend.get_result(handle)\n",
    "print(result.get_distribution())"
   ]
  }
 ],
 "metadata": {
  "kernelspec": {
   "display_name": "qtuum",
   "language": "python",
   "name": "qtuum"
  },
  "language_info": {
   "codemirror_mode": {
    "name": "ipython",
    "version": 3
   },
   "file_extension": ".py",
   "mimetype": "text/x-python",
   "name": "python",
   "nbconvert_exporter": "python",
   "pygments_lexer": "ipython3",
   "version": "3.11.4"
  }
 },
 "nbformat": 4,
 "nbformat_minor": 5
}
